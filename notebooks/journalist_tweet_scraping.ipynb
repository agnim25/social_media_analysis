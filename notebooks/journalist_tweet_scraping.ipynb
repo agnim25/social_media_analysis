{
 "cells": [
  {
   "cell_type": "code",
   "execution_count": 2,
   "id": "domestic-embassy",
   "metadata": {},
   "outputs": [],
   "source": [
    "import pandas as pd\n",
    "import numpy as np\n",
    "import matplotlib.pyplot as plt\n",
    "import tweepy"
   ]
  },
  {
   "cell_type": "code",
   "execution_count": 3,
   "id": "bdd37124",
   "metadata": {},
   "outputs": [],
   "source": [
    "data_path = '../data/'"
   ]
  },
  {
   "cell_type": "code",
   "execution_count": 5,
   "id": "southwest-sample",
   "metadata": {},
   "outputs": [
    {
     "name": "stdout",
     "output_type": "stream",
     "text": [
      "72712\n"
     ]
    },
    {
     "data": {
      "text/html": [
       "<div>\n",
       "<style scoped>\n",
       "    .dataframe tbody tr th:only-of-type {\n",
       "        vertical-align: middle;\n",
       "    }\n",
       "\n",
       "    .dataframe tbody tr th {\n",
       "        vertical-align: top;\n",
       "    }\n",
       "\n",
       "    .dataframe thead th {\n",
       "        text-align: right;\n",
       "    }\n",
       "</style>\n",
       "<table border=\"1\" class=\"dataframe\">\n",
       "  <thead>\n",
       "    <tr style=\"text-align: right;\">\n",
       "      <th></th>\n",
       "      <th>tweetId</th>\n",
       "      <th>Hate_Speech</th>\n",
       "    </tr>\n",
       "  </thead>\n",
       "  <tbody>\n",
       "    <tr>\n",
       "      <th>0</th>\n",
       "      <td>1029363256492793856</td>\n",
       "      <td>0</td>\n",
       "    </tr>\n",
       "    <tr>\n",
       "      <th>1</th>\n",
       "      <td>1032031619283079168</td>\n",
       "      <td>0</td>\n",
       "    </tr>\n",
       "    <tr>\n",
       "      <th>2</th>\n",
       "      <td>1033472135245783040</td>\n",
       "      <td>0</td>\n",
       "    </tr>\n",
       "    <tr>\n",
       "      <th>3</th>\n",
       "      <td>1056489434386853760</td>\n",
       "      <td>0</td>\n",
       "    </tr>\n",
       "    <tr>\n",
       "      <th>4</th>\n",
       "      <td>1053497753219883008</td>\n",
       "      <td>0</td>\n",
       "    </tr>\n",
       "  </tbody>\n",
       "</table>\n",
       "</div>"
      ],
      "text/plain": [
       "               tweetId  Hate_Speech\n",
       "0  1029363256492793856            0\n",
       "1  1032031619283079168            0\n",
       "2  1033472135245783040            0\n",
       "3  1056489434386853760            0\n",
       "4  1053497753219883008            0"
      ]
     },
     "execution_count": 5,
     "metadata": {},
     "output_type": "execute_result"
    }
   ],
   "source": [
    "train_hate = pd.read_csv(data_path + 'Train_Hate.csv')\n",
    "train_hate.tweetId = train_hate.tweetId.map(lambda x: '{:.0f}'.format(x))\n",
    "print(len(train_hate))\n",
    "train_hate.head()"
   ]
  },
  {
   "cell_type": "code",
   "execution_count": 6,
   "id": "assisted-genius",
   "metadata": {},
   "outputs": [
    {
     "data": {
      "text/html": [
       "<div>\n",
       "<style scoped>\n",
       "    .dataframe tbody tr th:only-of-type {\n",
       "        vertical-align: middle;\n",
       "    }\n",
       "\n",
       "    .dataframe tbody tr th {\n",
       "        vertical-align: top;\n",
       "    }\n",
       "\n",
       "    .dataframe thead th {\n",
       "        text-align: right;\n",
       "    }\n",
       "</style>\n",
       "<table border=\"1\" class=\"dataframe\">\n",
       "  <thead>\n",
       "    <tr style=\"text-align: right;\">\n",
       "      <th></th>\n",
       "      <th>tweetId</th>\n",
       "      <th>Personal_Attack</th>\n",
       "    </tr>\n",
       "  </thead>\n",
       "  <tbody>\n",
       "    <tr>\n",
       "      <th>0</th>\n",
       "      <td>1033038428370292736</td>\n",
       "      <td>0</td>\n",
       "    </tr>\n",
       "    <tr>\n",
       "      <th>1</th>\n",
       "      <td>1029190851421863936</td>\n",
       "      <td>1</td>\n",
       "    </tr>\n",
       "    <tr>\n",
       "      <th>2</th>\n",
       "      <td>1032735416250707968</td>\n",
       "      <td>1</td>\n",
       "    </tr>\n",
       "    <tr>\n",
       "      <th>3</th>\n",
       "      <td>1040822472004665216</td>\n",
       "      <td>0</td>\n",
       "    </tr>\n",
       "    <tr>\n",
       "      <th>4</th>\n",
       "      <td>1029611072582549632</td>\n",
       "      <td>1</td>\n",
       "    </tr>\n",
       "  </tbody>\n",
       "</table>\n",
       "</div>"
      ],
      "text/plain": [
       "               tweetId  Personal_Attack\n",
       "0  1033038428370292736                0\n",
       "1  1029190851421863936                1\n",
       "2  1032735416250707968                1\n",
       "3  1040822472004665216                0\n",
       "4  1029611072582549632                1"
      ]
     },
     "execution_count": 6,
     "metadata": {},
     "output_type": "execute_result"
    }
   ],
   "source": [
    "train_attack = pd.read_csv(data_path + 'Train_Personal_Attack.csv')\n",
    "train_attack.tweetId = train_attack.tweetId.map(lambda x: '{:.0f}'.format(x))\n",
    "train_attack.head()"
   ]
  },
  {
   "cell_type": "code",
   "execution_count": 185,
   "id": "entitled-button",
   "metadata": {},
   "outputs": [],
   "source": [
    "def lookup_tweets(df, api):\n",
    "    df = df.copy()\n",
    "    full_tweets = []\n",
    "    tweet_count = len(df)\n",
    "    tweet_IDs = df.tweetId.tolist()\n",
    "    try:\n",
    "        for i in range((tweet_count // 100) + 1):\n",
    "            # Catch the last group if it is less than 100 tweets\n",
    "            end_loc = min((i + 1) * 100, tweet_count)\n",
    "            full_tweets.extend(\n",
    "                api.statuses_lookup(id_=tweet_IDs[i * 100:end_loc])\n",
    "            )\n",
    "        return full_tweets\n",
    "    except tweepy.TweepError:\n",
    "        print('Something went wrong, quitting...')\n",
    "\n",
    "\n",
    "CONSUMER_KEY = \"\"\n",
    "CONSUMER_SECRET = \"\"\n",
    "OAUTH_TOKEN = \"\"\n",
    "OAUTH_TOKEN_SECRET = \"\"\n",
    "\n",
    "auth = tweepy.OAuthHandler(CONSUMER_KEY, CONSUMER_SECRET)\n",
    "auth.set_access_token(OAUTH_TOKEN, OAUTH_TOKEN_SECRET)\n",
    "\n",
    "api = tweepy.API(auth, wait_on_rate_limit=True, wait_on_rate_limit_notify=True)"
   ]
  },
  {
   "cell_type": "code",
   "execution_count": 194,
   "id": "rapid-pathology",
   "metadata": {
    "scrolled": true
   },
   "outputs": [
    {
     "name": "stderr",
     "output_type": "stream",
     "text": [
      "Rate limit reached. Sleeping for: 720\n"
     ]
    },
    {
     "data": {
      "text/html": [
       "<div>\n",
       "<style scoped>\n",
       "    .dataframe tbody tr th:only-of-type {\n",
       "        vertical-align: middle;\n",
       "    }\n",
       "\n",
       "    .dataframe tbody tr th {\n",
       "        vertical-align: top;\n",
       "    }\n",
       "\n",
       "    .dataframe thead th {\n",
       "        text-align: right;\n",
       "    }\n",
       "</style>\n",
       "<table border=\"1\" class=\"dataframe\">\n",
       "  <thead>\n",
       "    <tr style=\"text-align: right;\">\n",
       "      <th></th>\n",
       "      <th>tweet</th>\n",
       "    </tr>\n",
       "  </thead>\n",
       "  <tbody>\n",
       "    <tr>\n",
       "      <th>0</th>\n",
       "      <td>Status(_api=&lt;tweepy.api.API object at 0x146a90...</td>\n",
       "    </tr>\n",
       "    <tr>\n",
       "      <th>1</th>\n",
       "      <td>Status(_api=&lt;tweepy.api.API object at 0x146a90...</td>\n",
       "    </tr>\n",
       "    <tr>\n",
       "      <th>2</th>\n",
       "      <td>Status(_api=&lt;tweepy.api.API object at 0x146a90...</td>\n",
       "    </tr>\n",
       "    <tr>\n",
       "      <th>3</th>\n",
       "      <td>Status(_api=&lt;tweepy.api.API object at 0x146a90...</td>\n",
       "    </tr>\n",
       "    <tr>\n",
       "      <th>4</th>\n",
       "      <td>Status(_api=&lt;tweepy.api.API object at 0x146a90...</td>\n",
       "    </tr>\n",
       "  </tbody>\n",
       "</table>\n",
       "</div>"
      ],
      "text/plain": [
       "                                               tweet\n",
       "0  Status(_api=<tweepy.api.API object at 0x146a90...\n",
       "1  Status(_api=<tweepy.api.API object at 0x146a90...\n",
       "2  Status(_api=<tweepy.api.API object at 0x146a90...\n",
       "3  Status(_api=<tweepy.api.API object at 0x146a90...\n",
       "4  Status(_api=<tweepy.api.API object at 0x146a90..."
      ]
     },
     "execution_count": 194,
     "metadata": {},
     "output_type": "execute_result"
    }
   ],
   "source": [
    "train_hate_all = pd.DataFrame(lookup_tweets(train_hate, api), columns=['tweet'])\n",
    "train_attack_all = pd.DataFrame(lookup_tweets(train_attack, api), columns=['tweet'])\n",
    "\n",
    "# train_hate_all.to_csv('Train_Hate_All.csv')\n",
    "# train_attack_all.to_csv('Train_Attach_All.csv')\n",
    "\n",
    "# print(len(train_hate_all))\n",
    "# print(len(train_attack_all))\n",
    "train_hate_all.head()"
   ]
  },
  {
   "cell_type": "code",
   "execution_count": 195,
   "id": "wanted-interface",
   "metadata": {},
   "outputs": [
    {
     "data": {
      "text/html": [
       "<div>\n",
       "<style scoped>\n",
       "    .dataframe tbody tr th:only-of-type {\n",
       "        vertical-align: middle;\n",
       "    }\n",
       "\n",
       "    .dataframe tbody tr th {\n",
       "        vertical-align: top;\n",
       "    }\n",
       "\n",
       "    .dataframe thead th {\n",
       "        text-align: right;\n",
       "    }\n",
       "</style>\n",
       "<table border=\"1\" class=\"dataframe\">\n",
       "  <thead>\n",
       "    <tr style=\"text-align: right;\">\n",
       "      <th></th>\n",
       "      <th>tweet</th>\n",
       "      <th>Hate_Speech</th>\n",
       "    </tr>\n",
       "  </thead>\n",
       "  <tbody>\n",
       "    <tr>\n",
       "      <th>0</th>\n",
       "      <td>@RexHuppke Ah fuck him, sounds like he'll be d...</td>\n",
       "      <td>0</td>\n",
       "    </tr>\n",
       "    <tr>\n",
       "      <th>1</th>\n",
       "      <td>@mariaaraujo98 @Val_Voshchevska @angelasingh24...</td>\n",
       "      <td>1</td>\n",
       "    </tr>\n",
       "    <tr>\n",
       "      <th>2</th>\n",
       "      <td>@GenePark @myhlee @PostBaron @mboorstein Don't...</td>\n",
       "      <td>0</td>\n",
       "    </tr>\n",
       "    <tr>\n",
       "      <th>3</th>\n",
       "      <td>@peterbakernyt Sanders can choke on his dandruff.</td>\n",
       "      <td>0</td>\n",
       "    </tr>\n",
       "    <tr>\n",
       "      <th>4</th>\n",
       "      <td>@realDonaldTrump @FoxNews Fox News aka the Tru...</td>\n",
       "      <td>0</td>\n",
       "    </tr>\n",
       "  </tbody>\n",
       "</table>\n",
       "</div>"
      ],
      "text/plain": [
       "                                               tweet Hate_Speech\n",
       "0  @RexHuppke Ah fuck him, sounds like he'll be d...           0\n",
       "1  @mariaaraujo98 @Val_Voshchevska @angelasingh24...           1\n",
       "2  @GenePark @myhlee @PostBaron @mboorstein Don't...           0\n",
       "3  @peterbakernyt Sanders can choke on his dandruff.           0\n",
       "4  @realDonaldTrump @FoxNews Fox News aka the Tru...           0"
      ]
     },
     "execution_count": 195,
     "metadata": {},
     "output_type": "execute_result"
    }
   ],
   "source": [
    "train_hate_all['Hate_Speech'] = ''\n",
    "for i in range(len(train_hate_all)):\n",
    "    train_hate_all.at[i, 'Hate_Speech'] = train_hate[train_hate['tweetId'] == str(train_hate_all.at[i, 'tweet'].id)].Hate_Speech.iloc[0]\n",
    "    train_hate_all.at[i, 'tweet'] = train_hate_all.at[i, 'tweet'].text\n",
    "\n",
    "train_attack_all['Personal_Attack'] = ''\n",
    "for i in range(len(train_attack_all)):\n",
    "    train_attack_all.at[i, 'Personal_Attack'] = train_attack[train_attack['tweetId'] == str(train_attack_all.at[i, 'tweet'].id)].Personal_Attack.iloc[0]\n",
    "    train_attack_all.at[i, 'tweet'] = train_attack_all.at[i, 'tweet'].text\n",
    "train_hate_all.head()"
   ]
  },
  {
   "cell_type": "code",
   "execution_count": 196,
   "id": "saving-shirt",
   "metadata": {},
   "outputs": [],
   "source": [
    "train_attack_all.to_csv(data_path + 'Train_Attack_All.csv', index=False)\n",
    "train_hate_all.to_csv(data_path + 'Train_Hate_All.csv', index=False)"
   ]
  },
  {
   "cell_type": "code",
   "execution_count": 197,
   "id": "informative-surfing",
   "metadata": {},
   "outputs": [
    {
     "name": "stdout",
     "output_type": "stream",
     "text": [
      "14873\n",
      "14873\n"
     ]
    }
   ],
   "source": [
    "print(len(train_attack_all))\n",
    "print(len(train_hate_all))"
   ]
  }
 ],
 "metadata": {
  "kernelspec": {
   "display_name": "Python 3",
   "language": "python",
   "name": "python3"
  },
  "language_info": {
   "codemirror_mode": {
    "name": "ipython",
    "version": 3
   },
   "file_extension": ".py",
   "mimetype": "text/x-python",
   "name": "python",
   "nbconvert_exporter": "python",
   "pygments_lexer": "ipython3",
   "version": "3.8.8"
  },
  "latex_envs": {
   "LaTeX_envs_menu_present": true,
   "autoclose": false,
   "autocomplete": true,
   "bibliofile": "biblio.bib",
   "cite_by": "apalike",
   "current_citInitial": 1,
   "eqLabelWithNumbers": true,
   "eqNumInitial": 1,
   "hotkeys": {
    "equation": "Ctrl-E",
    "itemize": "Ctrl-I"
   },
   "labels_anchors": false,
   "latex_user_defs": false,
   "report_style_numbering": false,
   "user_envs_cfg": false
  },
  "toc": {
   "base_numbering": 1,
   "nav_menu": {},
   "number_sections": true,
   "sideBar": true,
   "skip_h1_title": false,
   "title_cell": "Table of Contents",
   "title_sidebar": "Contents",
   "toc_cell": false,
   "toc_position": {},
   "toc_section_display": true,
   "toc_window_display": false
  }
 },
 "nbformat": 4,
 "nbformat_minor": 5
}
