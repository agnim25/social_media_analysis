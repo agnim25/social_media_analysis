{
 "cells": [
  {
   "cell_type": "code",
   "execution_count": 1,
   "id": "handy-database",
   "metadata": {},
   "outputs": [
    {
     "name": "stderr",
     "output_type": "stream",
     "text": [
      "/opt/anaconda3/lib/python3.8/site-packages/gensim/similarities/__init__.py:15: UserWarning: The gensim.similarities.levenshtein submodule is disabled, because the optional Levenshtein package <https://pypi.org/project/python-Levenshtein/> is unavailable. Install Levenhstein (e.g. `pip install python-Levenshtein`) to suppress this warning.\n",
      "  warnings.warn(msg)\n"
     ]
    }
   ],
   "source": [
    "# DataFrame\n",
    "import pandas as pd\n",
    "\n",
    "# Matplot\n",
    "import matplotlib.pyplot as plt\n",
    "%matplotlib inline\n",
    "\n",
    "# Scikit-learn\n",
    "from sklearn.model_selection import train_test_split\n",
    "from sklearn.preprocessing import LabelEncoder\n",
    "from sklearn.metrics import confusion_matrix, classification_report, accuracy_score\n",
    "from sklearn.manifold import TSNE\n",
    "from sklearn.feature_extraction.text import TfidfVectorizer\n",
    "\n",
    "# Keras\n",
    "from keras.preprocessing.text import Tokenizer\n",
    "from keras.preprocessing.sequence import pad_sequences\n",
    "from keras.models import Sequential\n",
    "from keras.layers import Activation, Dense, Dropout, Embedding, Flatten, Conv1D, MaxPooling1D, LSTM, GlobalMaxPooling1D\n",
    "from keras import utils\n",
    "from keras.callbacks import ReduceLROnPlateau, EarlyStopping\n",
    "from keras.metrics import AUC\n",
    "\n",
    "# nltk\n",
    "import nltk\n",
    "from nltk.corpus import stopwords\n",
    "from  nltk.stem import SnowballStemmer\n",
    "\n",
    "# Word2vec\n",
    "import gensim\n",
    "\n",
    "# Utility\n",
    "import re\n",
    "import numpy as np\n",
    "import os\n",
    "from collections import Counter\n",
    "import logging\n",
    "import time\n",
    "import pickle\n",
    "import itertools\n",
    "\n",
    "# Set log\n",
    "logging.basicConfig(format='%(asctime)s : %(levelname)s : %(message)s', level=logging.INFO)"
   ]
  },
  {
   "cell_type": "code",
   "execution_count": 4,
   "id": "relevant-premiere",
   "metadata": {},
   "outputs": [],
   "source": [
    "# PATHS\n",
    "data_path = '../data/'\n",
    "notebooks = '../notebooks/'\n",
    "models = '../models/'\n",
    "\n",
    "# DATASET\n",
    "DATASET_COLUMNS = [\"message\", \"class\"]\n",
    "TRAIN_SIZE = 0.8\n",
    "\n",
    "# TEXT CLEANING\n",
    "TEXT_CLEANING_RE = \"@\\S+|https?:\\S+|http?:\\S|[^A-Za-z0-9]+\"\n",
    "\n",
    "# WORD2VEC \n",
    "W2V_SIZE = 100\n",
    "W2V_WINDOW = 7\n",
    "W2V_EPOCH = 32\n",
    "W2V_MIN_COUNT = 10\n",
    "\n",
    "# KERAS\n",
    "SEQUENCE_LENGTH = 50\n",
    "EPOCHS = 20\n",
    "BATCH_SIZE = 16\n",
    "\n",
    "# SENTIMENT\n",
    "POSITIVE = \"POSITIVE\"\n",
    "NEGATIVE = \"NEGATIVE\"\n",
    "NEUTRAL = \"NEUTRAL\"\n",
    "SENTIMENT_THRESHOLDS = (0.4, 0.7)\n",
    "\n",
    "# EXPORT\n",
    "KERAS_MODEL = models + \"model.h5\"\n",
    "WORD2VEC_MODEL = models + \"model.w2v\"\n",
    "TOKENIZER_MODEL = models + \"tokenizer.pkl\"\n",
    "ENCODER_MODEL = models + \"encoder.pkl\""
   ]
  },
  {
   "cell_type": "code",
   "execution_count": 5,
   "id": "acting-geometry",
   "metadata": {},
   "outputs": [
    {
     "data": {
      "text/html": [
       "<div>\n",
       "<style scoped>\n",
       "    .dataframe tbody tr th:only-of-type {\n",
       "        vertical-align: middle;\n",
       "    }\n",
       "\n",
       "    .dataframe tbody tr th {\n",
       "        vertical-align: top;\n",
       "    }\n",
       "\n",
       "    .dataframe thead th {\n",
       "        text-align: right;\n",
       "    }\n",
       "</style>\n",
       "<table border=\"1\" class=\"dataframe\">\n",
       "  <thead>\n",
       "    <tr style=\"text-align: right;\">\n",
       "      <th></th>\n",
       "      <th>message</th>\n",
       "      <th>class</th>\n",
       "    </tr>\n",
       "  </thead>\n",
       "  <tbody>\n",
       "    <tr>\n",
       "      <th>0</th>\n",
       "      <td>@RexHuppke Ah fuck him, sounds like he'll be d...</td>\n",
       "      <td>-1</td>\n",
       "    </tr>\n",
       "    <tr>\n",
       "      <th>1</th>\n",
       "      <td>@mariaaraujo98 @Val_Voshchevska @angelasingh24...</td>\n",
       "      <td>1</td>\n",
       "    </tr>\n",
       "    <tr>\n",
       "      <th>2</th>\n",
       "      <td>@GenePark @myhlee @PostBaron @mboorstein Don't...</td>\n",
       "      <td>-1</td>\n",
       "    </tr>\n",
       "    <tr>\n",
       "      <th>3</th>\n",
       "      <td>@peterbakernyt Sanders can choke on his dandruff.</td>\n",
       "      <td>-1</td>\n",
       "    </tr>\n",
       "    <tr>\n",
       "      <th>4</th>\n",
       "      <td>@realDonaldTrump @FoxNews Fox News aka the Tru...</td>\n",
       "      <td>-1</td>\n",
       "    </tr>\n",
       "  </tbody>\n",
       "</table>\n",
       "</div>"
      ],
      "text/plain": [
       "                                             message  class\n",
       "0  @RexHuppke Ah fuck him, sounds like he'll be d...     -1\n",
       "1  @mariaaraujo98 @Val_Voshchevska @angelasingh24...      1\n",
       "2  @GenePark @myhlee @PostBaron @mboorstein Don't...     -1\n",
       "3  @peterbakernyt Sanders can choke on his dandruff.     -1\n",
       "4  @realDonaldTrump @FoxNews Fox News aka the Tru...     -1"
      ]
     },
     "execution_count": 5,
     "metadata": {},
     "output_type": "execute_result"
    }
   ],
   "source": [
    "df = pd.read_csv(data_path + 'Train_Hate_All.csv')\n",
    "df = df.rename(columns={'tweet': 'message', 'Hate_Speech': 'class'})\n",
    "df = df.replace(0, -1)\n",
    "df.head()"
   ]
  },
  {
   "cell_type": "code",
   "execution_count": 6,
   "id": "needed-telescope",
   "metadata": {},
   "outputs": [],
   "source": [
    "decode_map = {-1: \"NEGATIVE\", 0: \"NEUTRAL\", 1: \"POSITIVE\"}\n",
    "def decode_sentiment(label):\n",
    "    return decode_map[int(label)]\n",
    "df['class'] = df['class'].apply(lambda x: decode_sentiment(x))"
   ]
  },
  {
   "cell_type": "code",
   "execution_count": 7,
   "id": "moral-supervision",
   "metadata": {},
   "outputs": [],
   "source": [
    "stop_words = stopwords.words(\"english\")\n",
    "stemmer = SnowballStemmer(\"english\")\n",
    "def preprocess(text, stem=False):\n",
    "    # Remove link,user and special characters\n",
    "    text = re.sub(TEXT_CLEANING_RE, ' ', str(text).lower()).strip()\n",
    "    tokens = []\n",
    "    for token in text.split():\n",
    "        if token not in stop_words:\n",
    "            if stem:\n",
    "                tokens.append(stemmer.stem(token))\n",
    "            else:\n",
    "                tokens.append(token)\n",
    "    return \" \".join(tokens)\n",
    "df.message = df.message.apply(lambda x: preprocess(x))"
   ]
  },
  {
   "cell_type": "code",
   "execution_count": 8,
   "id": "international-cowboy",
   "metadata": {
    "scrolled": true
   },
   "outputs": [
    {
     "name": "stdout",
     "output_type": "stream",
     "text": [
      "TRAIN size: 11898\n",
      "TEST size: 2975\n"
     ]
    }
   ],
   "source": [
    "df_train, df_test = train_test_split(df, test_size=1-TRAIN_SIZE, random_state=42)\n",
    "print(\"TRAIN size:\", len(df_train))\n",
    "print(\"TEST size:\", len(df_test))"
   ]
  },
  {
   "cell_type": "code",
   "execution_count": 9,
   "id": "silver-twist",
   "metadata": {},
   "outputs": [
    {
     "name": "stderr",
     "output_type": "stream",
     "text": [
      "2021-06-21 01:32:45,606 : INFO : Word2Vec lifecycle event {'params': 'Word2Vec(vocab=0, vector_size=100, alpha=0.025)', 'datetime': '2021-06-21T01:32:45.592684', 'gensim': '4.0.1', 'python': '3.8.8 (default, Feb 24 2021, 13:46:16) \\n[Clang 10.0.0 ]', 'platform': 'macOS-10.15.5-x86_64-i386-64bit', 'event': 'created'}\n",
      "2021-06-21 01:32:45,608 : INFO : collecting all words and their counts\n",
      "2021-06-21 01:32:45,609 : INFO : PROGRESS: at sentence #0, processed 0 words, keeping 0 word types\n",
      "2021-06-21 01:32:45,630 : INFO : PROGRESS: at sentence #10000, processed 74492 words, keeping 18836 word types\n",
      "2021-06-21 01:32:45,635 : INFO : collected 21237 word types from a corpus of 88639 raw words and 11898 sentences\n",
      "2021-06-21 01:32:45,635 : INFO : Creating a fresh vocabulary\n",
      "2021-06-21 01:32:45,648 : INFO : Word2Vec lifecycle event {'msg': 'effective_min_count=10 retains 1420 unique words (6.686443471300089%% of original 21237, drops 19817)', 'datetime': '2021-06-21T01:32:45.648473', 'gensim': '4.0.1', 'python': '3.8.8 (default, Feb 24 2021, 13:46:16) \\n[Clang 10.0.0 ]', 'platform': 'macOS-10.15.5-x86_64-i386-64bit', 'event': 'prepare_vocab'}\n",
      "2021-06-21 01:32:45,649 : INFO : Word2Vec lifecycle event {'msg': 'effective_min_count=10 leaves 54515 word corpus (61.50227326571825%% of original 88639, drops 34124)', 'datetime': '2021-06-21T01:32:45.649226', 'gensim': '4.0.1', 'python': '3.8.8 (default, Feb 24 2021, 13:46:16) \\n[Clang 10.0.0 ]', 'platform': 'macOS-10.15.5-x86_64-i386-64bit', 'event': 'prepare_vocab'}\n",
      "2021-06-21 01:32:45,659 : INFO : deleting the raw counts dictionary of 21237 items\n",
      "2021-06-21 01:32:45,660 : INFO : sample=0.001 downsamples 48 most-common words\n",
      "2021-06-21 01:32:45,660 : INFO : Word2Vec lifecycle event {'msg': 'downsampling leaves estimated 46338.26343670153 word corpus (85.0%% of prior 54515)', 'datetime': '2021-06-21T01:32:45.660961', 'gensim': '4.0.1', 'python': '3.8.8 (default, Feb 24 2021, 13:46:16) \\n[Clang 10.0.0 ]', 'platform': 'macOS-10.15.5-x86_64-i386-64bit', 'event': 'prepare_vocab'}\n",
      "2021-06-21 01:32:45,679 : INFO : estimated required memory for 1420 words and 100 dimensions: 1846000 bytes\n",
      "2021-06-21 01:32:45,680 : INFO : resetting layer weights\n",
      "2021-06-21 01:32:45,682 : INFO : Word2Vec lifecycle event {'update': False, 'trim_rule': 'None', 'datetime': '2021-06-21T01:32:45.682332', 'gensim': '4.0.1', 'python': '3.8.8 (default, Feb 24 2021, 13:46:16) \\n[Clang 10.0.0 ]', 'platform': 'macOS-10.15.5-x86_64-i386-64bit', 'event': 'build_vocab'}\n"
     ]
    },
    {
     "name": "stdout",
     "output_type": "stream",
     "text": [
      "Vocab size 1420\n"
     ]
    }
   ],
   "source": [
    "documents = [_text.split() for _text in df_train.message] \n",
    "w2v_model = gensim.models.word2vec.Word2Vec(window=W2V_WINDOW, \n",
    "                                            min_count=W2V_MIN_COUNT, \n",
    "                                            workers=8)\n",
    "w2v_model.build_vocab(documents)\n",
    "# words = w2v_model.wv.vocab.keys()\n",
    "vocab_size = len(w2v_model.wv)\n",
    "print(\"Vocab size\", vocab_size)"
   ]
  },
  {
   "cell_type": "code",
   "execution_count": 10,
   "id": "lesser-color",
   "metadata": {},
   "outputs": [
    {
     "name": "stderr",
     "output_type": "stream",
     "text": [
      "2021-06-21 01:32:45,692 : INFO : Word2Vec lifecycle event {'msg': 'training model with 8 workers on 1420 vocabulary and 100 features, using sg=0 hs=0 sample=0.001 negative=5 window=7', 'datetime': '2021-06-21T01:32:45.692271', 'gensim': '4.0.1', 'python': '3.8.8 (default, Feb 24 2021, 13:46:16) \\n[Clang 10.0.0 ]', 'platform': 'macOS-10.15.5-x86_64-i386-64bit', 'event': 'train'}\n",
      "2021-06-21 01:32:45,724 : INFO : worker thread finished; awaiting finish of 7 more threads\n",
      "2021-06-21 01:32:45,733 : INFO : worker thread finished; awaiting finish of 6 more threads\n",
      "2021-06-21 01:32:45,734 : INFO : worker thread finished; awaiting finish of 5 more threads\n",
      "2021-06-21 01:32:45,737 : INFO : worker thread finished; awaiting finish of 4 more threads\n",
      "2021-06-21 01:32:45,741 : INFO : worker thread finished; awaiting finish of 3 more threads\n",
      "2021-06-21 01:32:45,744 : INFO : worker thread finished; awaiting finish of 2 more threads\n",
      "2021-06-21 01:32:45,747 : INFO : worker thread finished; awaiting finish of 1 more threads\n",
      "2021-06-21 01:32:45,747 : INFO : worker thread finished; awaiting finish of 0 more threads\n",
      "2021-06-21 01:32:45,748 : INFO : EPOCH - 1 : training on 88639 raw words (46321 effective words) took 0.0s, 1357737 effective words/s\n",
      "2021-06-21 01:32:45,773 : INFO : worker thread finished; awaiting finish of 7 more threads\n",
      "2021-06-21 01:32:45,778 : INFO : worker thread finished; awaiting finish of 6 more threads\n",
      "2021-06-21 01:32:45,785 : INFO : worker thread finished; awaiting finish of 5 more threads\n",
      "2021-06-21 01:32:45,793 : INFO : worker thread finished; awaiting finish of 4 more threads\n",
      "2021-06-21 01:32:45,794 : INFO : worker thread finished; awaiting finish of 3 more threads\n",
      "2021-06-21 01:32:45,796 : INFO : worker thread finished; awaiting finish of 2 more threads\n",
      "2021-06-21 01:32:45,798 : INFO : worker thread finished; awaiting finish of 1 more threads\n",
      "2021-06-21 01:32:45,799 : INFO : worker thread finished; awaiting finish of 0 more threads\n",
      "2021-06-21 01:32:45,799 : INFO : EPOCH - 2 : training on 88639 raw words (46384 effective words) took 0.0s, 1633997 effective words/s\n",
      "2021-06-21 01:32:45,840 : INFO : worker thread finished; awaiting finish of 7 more threads\n",
      "2021-06-21 01:32:45,841 : INFO : worker thread finished; awaiting finish of 6 more threads\n",
      "2021-06-21 01:32:45,843 : INFO : worker thread finished; awaiting finish of 5 more threads\n",
      "2021-06-21 01:32:45,844 : INFO : worker thread finished; awaiting finish of 4 more threads\n",
      "2021-06-21 01:32:45,845 : INFO : worker thread finished; awaiting finish of 3 more threads\n",
      "2021-06-21 01:32:45,847 : INFO : worker thread finished; awaiting finish of 2 more threads\n",
      "2021-06-21 01:32:45,847 : INFO : worker thread finished; awaiting finish of 1 more threads\n",
      "2021-06-21 01:32:45,848 : INFO : worker thread finished; awaiting finish of 0 more threads\n",
      "2021-06-21 01:32:45,849 : INFO : EPOCH - 3 : training on 88639 raw words (46316 effective words) took 0.0s, 1455321 effective words/s\n",
      "2021-06-21 01:32:45,874 : INFO : worker thread finished; awaiting finish of 7 more threads\n",
      "2021-06-21 01:32:45,878 : INFO : worker thread finished; awaiting finish of 6 more threads\n",
      "2021-06-21 01:32:45,885 : INFO : worker thread finished; awaiting finish of 5 more threads\n",
      "2021-06-21 01:32:45,893 : INFO : worker thread finished; awaiting finish of 4 more threads\n",
      "2021-06-21 01:32:45,894 : INFO : worker thread finished; awaiting finish of 3 more threads\n",
      "2021-06-21 01:32:45,896 : INFO : worker thread finished; awaiting finish of 2 more threads\n",
      "2021-06-21 01:32:45,898 : INFO : worker thread finished; awaiting finish of 1 more threads\n",
      "2021-06-21 01:32:45,898 : INFO : worker thread finished; awaiting finish of 0 more threads\n",
      "2021-06-21 01:32:45,899 : INFO : EPOCH - 4 : training on 88639 raw words (46278 effective words) took 0.0s, 1135811 effective words/s\n",
      "2021-06-21 01:32:45,936 : INFO : worker thread finished; awaiting finish of 7 more threads\n",
      "2021-06-21 01:32:45,938 : INFO : worker thread finished; awaiting finish of 6 more threads\n",
      "2021-06-21 01:32:45,943 : INFO : worker thread finished; awaiting finish of 5 more threads\n",
      "2021-06-21 01:32:45,944 : INFO : worker thread finished; awaiting finish of 4 more threads\n",
      "2021-06-21 01:32:45,945 : INFO : worker thread finished; awaiting finish of 3 more threads\n",
      "2021-06-21 01:32:45,947 : INFO : worker thread finished; awaiting finish of 2 more threads\n",
      "2021-06-21 01:32:45,950 : INFO : worker thread finished; awaiting finish of 1 more threads\n",
      "2021-06-21 01:32:45,951 : INFO : worker thread finished; awaiting finish of 0 more threads\n",
      "2021-06-21 01:32:45,951 : INFO : EPOCH - 5 : training on 88639 raw words (46430 effective words) took 0.0s, 1164817 effective words/s\n",
      "2021-06-21 01:32:45,974 : INFO : worker thread finished; awaiting finish of 7 more threads\n",
      "2021-06-21 01:32:45,981 : INFO : worker thread finished; awaiting finish of 6 more threads\n",
      "2021-06-21 01:32:45,993 : INFO : worker thread finished; awaiting finish of 5 more threads\n",
      "2021-06-21 01:32:45,995 : INFO : worker thread finished; awaiting finish of 4 more threads\n",
      "2021-06-21 01:32:45,996 : INFO : worker thread finished; awaiting finish of 3 more threads\n",
      "2021-06-21 01:32:45,998 : INFO : worker thread finished; awaiting finish of 2 more threads\n",
      "2021-06-21 01:32:46,000 : INFO : worker thread finished; awaiting finish of 1 more threads\n",
      "2021-06-21 01:32:46,001 : INFO : worker thread finished; awaiting finish of 0 more threads\n",
      "2021-06-21 01:32:46,002 : INFO : EPOCH - 6 : training on 88639 raw words (46358 effective words) took 0.0s, 1339535 effective words/s\n",
      "2021-06-21 01:32:46,023 : INFO : worker thread finished; awaiting finish of 7 more threads\n",
      "2021-06-21 01:32:46,030 : INFO : worker thread finished; awaiting finish of 6 more threads\n",
      "2021-06-21 01:32:46,046 : INFO : worker thread finished; awaiting finish of 5 more threads\n",
      "2021-06-21 01:32:46,048 : INFO : worker thread finished; awaiting finish of 4 more threads\n",
      "2021-06-21 01:32:46,049 : INFO : worker thread finished; awaiting finish of 3 more threads\n",
      "2021-06-21 01:32:46,050 : INFO : worker thread finished; awaiting finish of 2 more threads\n",
      "2021-06-21 01:32:46,051 : INFO : worker thread finished; awaiting finish of 1 more threads\n",
      "2021-06-21 01:32:46,053 : INFO : worker thread finished; awaiting finish of 0 more threads\n",
      "2021-06-21 01:32:46,054 : INFO : EPOCH - 7 : training on 88639 raw words (46329 effective words) took 0.0s, 1429868 effective words/s\n",
      "2021-06-21 01:32:46,083 : INFO : worker thread finished; awaiting finish of 7 more threads\n",
      "2021-06-21 01:32:46,097 : INFO : worker thread finished; awaiting finish of 6 more threads\n",
      "2021-06-21 01:32:46,100 : INFO : worker thread finished; awaiting finish of 5 more threads\n",
      "2021-06-21 01:32:46,101 : INFO : worker thread finished; awaiting finish of 4 more threads\n",
      "2021-06-21 01:32:46,102 : INFO : worker thread finished; awaiting finish of 3 more threads\n",
      "2021-06-21 01:32:46,104 : INFO : worker thread finished; awaiting finish of 2 more threads\n",
      "2021-06-21 01:32:46,105 : INFO : worker thread finished; awaiting finish of 1 more threads\n",
      "2021-06-21 01:32:46,107 : INFO : worker thread finished; awaiting finish of 0 more threads\n",
      "2021-06-21 01:32:46,107 : INFO : EPOCH - 8 : training on 88639 raw words (46340 effective words) took 0.0s, 1308283 effective words/s\n",
      "2021-06-21 01:32:46,141 : INFO : worker thread finished; awaiting finish of 7 more threads\n",
      "2021-06-21 01:32:46,150 : INFO : worker thread finished; awaiting finish of 6 more threads\n",
      "2021-06-21 01:32:46,152 : INFO : worker thread finished; awaiting finish of 5 more threads\n",
      "2021-06-21 01:32:46,153 : INFO : worker thread finished; awaiting finish of 4 more threads\n",
      "2021-06-21 01:32:46,155 : INFO : worker thread finished; awaiting finish of 3 more threads\n",
      "2021-06-21 01:32:46,156 : INFO : worker thread finished; awaiting finish of 2 more threads\n",
      "2021-06-21 01:32:46,157 : INFO : worker thread finished; awaiting finish of 1 more threads\n",
      "2021-06-21 01:32:46,159 : INFO : worker thread finished; awaiting finish of 0 more threads\n",
      "2021-06-21 01:32:46,159 : INFO : EPOCH - 9 : training on 88639 raw words (46379 effective words) took 0.0s, 1130250 effective words/s\n",
      "2021-06-21 01:32:46,203 : INFO : worker thread finished; awaiting finish of 7 more threads\n"
     ]
    },
    {
     "name": "stderr",
     "output_type": "stream",
     "text": [
      "2021-06-21 01:32:46,206 : INFO : worker thread finished; awaiting finish of 6 more threads\n",
      "2021-06-21 01:32:46,207 : INFO : worker thread finished; awaiting finish of 5 more threads\n",
      "2021-06-21 01:32:46,208 : INFO : worker thread finished; awaiting finish of 4 more threads\n",
      "2021-06-21 01:32:46,209 : INFO : worker thread finished; awaiting finish of 3 more threads\n",
      "2021-06-21 01:32:46,210 : INFO : worker thread finished; awaiting finish of 2 more threads\n",
      "2021-06-21 01:32:46,211 : INFO : worker thread finished; awaiting finish of 1 more threads\n",
      "2021-06-21 01:32:46,212 : INFO : worker thread finished; awaiting finish of 0 more threads\n",
      "2021-06-21 01:32:46,213 : INFO : EPOCH - 10 : training on 88639 raw words (46362 effective words) took 0.0s, 1078206 effective words/s\n",
      "2021-06-21 01:32:46,238 : INFO : worker thread finished; awaiting finish of 7 more threads\n",
      "2021-06-21 01:32:46,258 : INFO : worker thread finished; awaiting finish of 6 more threads\n",
      "2021-06-21 01:32:46,260 : INFO : worker thread finished; awaiting finish of 5 more threads\n",
      "2021-06-21 01:32:46,262 : INFO : worker thread finished; awaiting finish of 4 more threads\n",
      "2021-06-21 01:32:46,263 : INFO : worker thread finished; awaiting finish of 3 more threads\n",
      "2021-06-21 01:32:46,263 : INFO : worker thread finished; awaiting finish of 2 more threads\n",
      "2021-06-21 01:32:46,264 : INFO : worker thread finished; awaiting finish of 1 more threads\n",
      "2021-06-21 01:32:46,265 : INFO : worker thread finished; awaiting finish of 0 more threads\n",
      "2021-06-21 01:32:46,266 : INFO : EPOCH - 11 : training on 88639 raw words (46306 effective words) took 0.0s, 1049527 effective words/s\n",
      "2021-06-21 01:32:46,301 : INFO : worker thread finished; awaiting finish of 7 more threads\n",
      "2021-06-21 01:32:46,310 : INFO : worker thread finished; awaiting finish of 6 more threads\n",
      "2021-06-21 01:32:46,315 : INFO : worker thread finished; awaiting finish of 5 more threads\n",
      "2021-06-21 01:32:46,318 : INFO : worker thread finished; awaiting finish of 4 more threads\n",
      "2021-06-21 01:32:46,319 : INFO : worker thread finished; awaiting finish of 3 more threads\n",
      "2021-06-21 01:32:46,320 : INFO : worker thread finished; awaiting finish of 2 more threads\n",
      "2021-06-21 01:32:46,321 : INFO : worker thread finished; awaiting finish of 1 more threads\n",
      "2021-06-21 01:32:46,322 : INFO : worker thread finished; awaiting finish of 0 more threads\n",
      "2021-06-21 01:32:46,323 : INFO : EPOCH - 12 : training on 88639 raw words (46284 effective words) took 0.0s, 1051852 effective words/s\n",
      "2021-06-21 01:32:46,348 : INFO : worker thread finished; awaiting finish of 7 more threads\n",
      "2021-06-21 01:32:46,359 : INFO : worker thread finished; awaiting finish of 6 more threads\n",
      "2021-06-21 01:32:46,364 : INFO : worker thread finished; awaiting finish of 5 more threads\n",
      "2021-06-21 01:32:46,366 : INFO : worker thread finished; awaiting finish of 4 more threads\n",
      "2021-06-21 01:32:46,367 : INFO : worker thread finished; awaiting finish of 3 more threads\n",
      "2021-06-21 01:32:46,368 : INFO : worker thread finished; awaiting finish of 2 more threads\n",
      "2021-06-21 01:32:46,369 : INFO : worker thread finished; awaiting finish of 1 more threads\n",
      "2021-06-21 01:32:46,373 : INFO : worker thread finished; awaiting finish of 0 more threads\n",
      "2021-06-21 01:32:46,374 : INFO : EPOCH - 13 : training on 88639 raw words (46304 effective words) took 0.0s, 1158668 effective words/s\n",
      "2021-06-21 01:32:46,411 : INFO : worker thread finished; awaiting finish of 7 more threads\n",
      "2021-06-21 01:32:46,413 : INFO : worker thread finished; awaiting finish of 6 more threads\n",
      "2021-06-21 01:32:46,414 : INFO : worker thread finished; awaiting finish of 5 more threads\n",
      "2021-06-21 01:32:46,415 : INFO : worker thread finished; awaiting finish of 4 more threads\n",
      "2021-06-21 01:32:46,416 : INFO : worker thread finished; awaiting finish of 3 more threads\n",
      "2021-06-21 01:32:46,419 : INFO : worker thread finished; awaiting finish of 2 more threads\n",
      "2021-06-21 01:32:46,420 : INFO : worker thread finished; awaiting finish of 1 more threads\n",
      "2021-06-21 01:32:46,421 : INFO : worker thread finished; awaiting finish of 0 more threads\n",
      "2021-06-21 01:32:46,422 : INFO : EPOCH - 14 : training on 88639 raw words (46249 effective words) took 0.0s, 1193514 effective words/s\n",
      "2021-06-21 01:32:46,445 : INFO : worker thread finished; awaiting finish of 7 more threads\n",
      "2021-06-21 01:32:46,451 : INFO : worker thread finished; awaiting finish of 6 more threads\n",
      "2021-06-21 01:32:46,463 : INFO : worker thread finished; awaiting finish of 5 more threads\n",
      "2021-06-21 01:32:46,465 : INFO : worker thread finished; awaiting finish of 4 more threads\n",
      "2021-06-21 01:32:46,466 : INFO : worker thread finished; awaiting finish of 3 more threads\n",
      "2021-06-21 01:32:46,469 : INFO : worker thread finished; awaiting finish of 2 more threads\n",
      "2021-06-21 01:32:46,471 : INFO : worker thread finished; awaiting finish of 1 more threads\n",
      "2021-06-21 01:32:46,473 : INFO : worker thread finished; awaiting finish of 0 more threads\n",
      "2021-06-21 01:32:46,474 : INFO : EPOCH - 15 : training on 88639 raw words (46340 effective words) took 0.0s, 1133792 effective words/s\n",
      "2021-06-21 01:32:46,500 : INFO : worker thread finished; awaiting finish of 7 more threads\n",
      "2021-06-21 01:32:46,506 : INFO : worker thread finished; awaiting finish of 6 more threads\n",
      "2021-06-21 01:32:46,508 : INFO : worker thread finished; awaiting finish of 5 more threads\n",
      "2021-06-21 01:32:46,513 : INFO : worker thread finished; awaiting finish of 4 more threads\n",
      "2021-06-21 01:32:46,514 : INFO : worker thread finished; awaiting finish of 3 more threads\n",
      "2021-06-21 01:32:46,515 : INFO : worker thread finished; awaiting finish of 2 more threads\n",
      "2021-06-21 01:32:46,518 : INFO : worker thread finished; awaiting finish of 1 more threads\n",
      "2021-06-21 01:32:46,518 : INFO : worker thread finished; awaiting finish of 0 more threads\n",
      "2021-06-21 01:32:46,519 : INFO : EPOCH - 16 : training on 88639 raw words (46250 effective words) took 0.0s, 1440854 effective words/s\n",
      "2021-06-21 01:32:46,544 : INFO : worker thread finished; awaiting finish of 7 more threads\n",
      "2021-06-21 01:32:46,548 : INFO : worker thread finished; awaiting finish of 6 more threads\n",
      "2021-06-21 01:32:46,556 : INFO : worker thread finished; awaiting finish of 5 more threads\n",
      "2021-06-21 01:32:46,559 : INFO : worker thread finished; awaiting finish of 4 more threads\n",
      "2021-06-21 01:32:46,563 : INFO : worker thread finished; awaiting finish of 3 more threads\n",
      "2021-06-21 01:32:46,564 : INFO : worker thread finished; awaiting finish of 2 more threads\n",
      "2021-06-21 01:32:46,565 : INFO : worker thread finished; awaiting finish of 1 more threads\n",
      "2021-06-21 01:32:46,566 : INFO : worker thread finished; awaiting finish of 0 more threads\n",
      "2021-06-21 01:32:46,567 : INFO : EPOCH - 17 : training on 88639 raw words (46349 effective words) took 0.0s, 1745913 effective words/s\n",
      "2021-06-21 01:32:46,594 : INFO : worker thread finished; awaiting finish of 7 more threads\n",
      "2021-06-21 01:32:46,602 : INFO : worker thread finished; awaiting finish of 6 more threads\n",
      "2021-06-21 01:32:46,604 : INFO : worker thread finished; awaiting finish of 5 more threads\n",
      "2021-06-21 01:32:46,605 : INFO : worker thread finished; awaiting finish of 4 more threads\n",
      "2021-06-21 01:32:46,606 : INFO : worker thread finished; awaiting finish of 3 more threads\n",
      "2021-06-21 01:32:46,607 : INFO : worker thread finished; awaiting finish of 2 more threads\n",
      "2021-06-21 01:32:46,610 : INFO : worker thread finished; awaiting finish of 1 more threads\n",
      "2021-06-21 01:32:46,611 : INFO : worker thread finished; awaiting finish of 0 more threads\n",
      "2021-06-21 01:32:46,611 : INFO : EPOCH - 18 : training on 88639 raw words (46352 effective words) took 0.0s, 1343861 effective words/s\n",
      "2021-06-21 01:32:46,635 : INFO : worker thread finished; awaiting finish of 7 more threads\n",
      "2021-06-21 01:32:46,642 : INFO : worker thread finished; awaiting finish of 6 more threads\n",
      "2021-06-21 01:32:46,648 : INFO : worker thread finished; awaiting finish of 5 more threads\n",
      "2021-06-21 01:32:46,650 : INFO : worker thread finished; awaiting finish of 4 more threads\n",
      "2021-06-21 01:32:46,652 : INFO : worker thread finished; awaiting finish of 3 more threads\n",
      "2021-06-21 01:32:46,653 : INFO : worker thread finished; awaiting finish of 2 more threads\n"
     ]
    },
    {
     "name": "stderr",
     "output_type": "stream",
     "text": [
      "2021-06-21 01:32:46,656 : INFO : worker thread finished; awaiting finish of 1 more threads\n",
      "2021-06-21 01:32:46,657 : INFO : worker thread finished; awaiting finish of 0 more threads\n",
      "2021-06-21 01:32:46,657 : INFO : EPOCH - 19 : training on 88639 raw words (46369 effective words) took 0.0s, 1273245 effective words/s\n",
      "2021-06-21 01:32:46,684 : INFO : worker thread finished; awaiting finish of 7 more threads\n",
      "2021-06-21 01:32:46,690 : INFO : worker thread finished; awaiting finish of 6 more threads\n",
      "2021-06-21 01:32:46,693 : INFO : worker thread finished; awaiting finish of 5 more threads\n",
      "2021-06-21 01:32:46,694 : INFO : worker thread finished; awaiting finish of 4 more threads\n",
      "2021-06-21 01:32:46,695 : INFO : worker thread finished; awaiting finish of 3 more threads\n",
      "2021-06-21 01:32:46,696 : INFO : worker thread finished; awaiting finish of 2 more threads\n",
      "2021-06-21 01:32:46,699 : INFO : worker thread finished; awaiting finish of 1 more threads\n",
      "2021-06-21 01:32:46,699 : INFO : worker thread finished; awaiting finish of 0 more threads\n",
      "2021-06-21 01:32:46,700 : INFO : EPOCH - 20 : training on 88639 raw words (46291 effective words) took 0.0s, 1457928 effective words/s\n",
      "2021-06-21 01:32:46,737 : INFO : worker thread finished; awaiting finish of 7 more threads\n",
      "2021-06-21 01:32:46,738 : INFO : worker thread finished; awaiting finish of 6 more threads\n",
      "2021-06-21 01:32:46,739 : INFO : worker thread finished; awaiting finish of 5 more threads\n",
      "2021-06-21 01:32:46,740 : INFO : worker thread finished; awaiting finish of 4 more threads\n",
      "2021-06-21 01:32:46,740 : INFO : worker thread finished; awaiting finish of 3 more threads\n",
      "2021-06-21 01:32:46,741 : INFO : worker thread finished; awaiting finish of 2 more threads\n",
      "2021-06-21 01:32:46,742 : INFO : worker thread finished; awaiting finish of 1 more threads\n",
      "2021-06-21 01:32:46,743 : INFO : worker thread finished; awaiting finish of 0 more threads\n",
      "2021-06-21 01:32:46,744 : INFO : EPOCH - 21 : training on 88639 raw words (46369 effective words) took 0.0s, 1369756 effective words/s\n",
      "2021-06-21 01:32:46,774 : INFO : worker thread finished; awaiting finish of 7 more threads\n",
      "2021-06-21 01:32:46,778 : INFO : worker thread finished; awaiting finish of 6 more threads\n",
      "2021-06-21 01:32:46,779 : INFO : worker thread finished; awaiting finish of 5 more threads\n",
      "2021-06-21 01:32:46,779 : INFO : worker thread finished; awaiting finish of 4 more threads\n",
      "2021-06-21 01:32:46,783 : INFO : worker thread finished; awaiting finish of 3 more threads\n",
      "2021-06-21 01:32:46,785 : INFO : worker thread finished; awaiting finish of 2 more threads\n",
      "2021-06-21 01:32:46,786 : INFO : worker thread finished; awaiting finish of 1 more threads\n",
      "2021-06-21 01:32:46,787 : INFO : worker thread finished; awaiting finish of 0 more threads\n",
      "2021-06-21 01:32:46,788 : INFO : EPOCH - 22 : training on 88639 raw words (46273 effective words) took 0.0s, 1559103 effective words/s\n",
      "2021-06-21 01:32:46,828 : INFO : worker thread finished; awaiting finish of 7 more threads\n",
      "2021-06-21 01:32:46,829 : INFO : worker thread finished; awaiting finish of 6 more threads\n",
      "2021-06-21 01:32:46,830 : INFO : worker thread finished; awaiting finish of 5 more threads\n",
      "2021-06-21 01:32:46,831 : INFO : worker thread finished; awaiting finish of 4 more threads\n",
      "2021-06-21 01:32:46,832 : INFO : worker thread finished; awaiting finish of 3 more threads\n",
      "2021-06-21 01:32:46,833 : INFO : worker thread finished; awaiting finish of 2 more threads\n",
      "2021-06-21 01:32:46,834 : INFO : worker thread finished; awaiting finish of 1 more threads\n",
      "2021-06-21 01:32:46,835 : INFO : worker thread finished; awaiting finish of 0 more threads\n",
      "2021-06-21 01:32:46,836 : INFO : EPOCH - 23 : training on 88639 raw words (46282 effective words) took 0.0s, 1250698 effective words/s\n",
      "2021-06-21 01:32:46,864 : INFO : worker thread finished; awaiting finish of 7 more threads\n",
      "2021-06-21 01:32:46,875 : INFO : worker thread finished; awaiting finish of 6 more threads\n",
      "2021-06-21 01:32:46,877 : INFO : worker thread finished; awaiting finish of 5 more threads\n",
      "2021-06-21 01:32:46,878 : INFO : worker thread finished; awaiting finish of 4 more threads\n",
      "2021-06-21 01:32:46,879 : INFO : worker thread finished; awaiting finish of 3 more threads\n",
      "2021-06-21 01:32:46,879 : INFO : worker thread finished; awaiting finish of 2 more threads\n",
      "2021-06-21 01:32:46,880 : INFO : worker thread finished; awaiting finish of 1 more threads\n",
      "2021-06-21 01:32:46,881 : INFO : worker thread finished; awaiting finish of 0 more threads\n",
      "2021-06-21 01:32:46,882 : INFO : EPOCH - 24 : training on 88639 raw words (46385 effective words) took 0.0s, 1426336 effective words/s\n",
      "2021-06-21 01:32:46,905 : INFO : worker thread finished; awaiting finish of 7 more threads\n",
      "2021-06-21 01:32:46,914 : INFO : worker thread finished; awaiting finish of 6 more threads\n",
      "2021-06-21 01:32:46,916 : INFO : worker thread finished; awaiting finish of 5 more threads\n",
      "2021-06-21 01:32:46,918 : INFO : worker thread finished; awaiting finish of 4 more threads\n",
      "2021-06-21 01:32:46,922 : INFO : worker thread finished; awaiting finish of 3 more threads\n",
      "2021-06-21 01:32:46,923 : INFO : worker thread finished; awaiting finish of 2 more threads\n",
      "2021-06-21 01:32:46,924 : INFO : worker thread finished; awaiting finish of 1 more threads\n",
      "2021-06-21 01:32:46,925 : INFO : worker thread finished; awaiting finish of 0 more threads\n",
      "2021-06-21 01:32:46,926 : INFO : EPOCH - 25 : training on 88639 raw words (46265 effective words) took 0.0s, 1381503 effective words/s\n",
      "2021-06-21 01:32:46,963 : INFO : worker thread finished; awaiting finish of 7 more threads\n",
      "2021-06-21 01:32:46,964 : INFO : worker thread finished; awaiting finish of 6 more threads\n",
      "2021-06-21 01:32:46,965 : INFO : worker thread finished; awaiting finish of 5 more threads\n",
      "2021-06-21 01:32:46,966 : INFO : worker thread finished; awaiting finish of 4 more threads\n",
      "2021-06-21 01:32:46,967 : INFO : worker thread finished; awaiting finish of 3 more threads\n",
      "2021-06-21 01:32:46,968 : INFO : worker thread finished; awaiting finish of 2 more threads\n",
      "2021-06-21 01:32:46,969 : INFO : worker thread finished; awaiting finish of 1 more threads\n",
      "2021-06-21 01:32:46,970 : INFO : worker thread finished; awaiting finish of 0 more threads\n",
      "2021-06-21 01:32:46,971 : INFO : EPOCH - 26 : training on 88639 raw words (46412 effective words) took 0.0s, 1589898 effective words/s\n",
      "2021-06-21 01:32:46,994 : INFO : worker thread finished; awaiting finish of 7 more threads\n",
      "2021-06-21 01:32:47,000 : INFO : worker thread finished; awaiting finish of 6 more threads\n",
      "2021-06-21 01:32:47,013 : INFO : worker thread finished; awaiting finish of 5 more threads\n",
      "2021-06-21 01:32:47,017 : INFO : worker thread finished; awaiting finish of 4 more threads\n",
      "2021-06-21 01:32:47,018 : INFO : worker thread finished; awaiting finish of 3 more threads\n",
      "2021-06-21 01:32:47,019 : INFO : worker thread finished; awaiting finish of 2 more threads\n",
      "2021-06-21 01:32:47,020 : INFO : worker thread finished; awaiting finish of 1 more threads\n",
      "2021-06-21 01:32:47,021 : INFO : worker thread finished; awaiting finish of 0 more threads\n",
      "2021-06-21 01:32:47,022 : INFO : EPOCH - 27 : training on 88639 raw words (46279 effective words) took 0.0s, 1152892 effective words/s\n",
      "2021-06-21 01:32:47,047 : INFO : worker thread finished; awaiting finish of 7 more threads\n",
      "2021-06-21 01:32:47,058 : INFO : worker thread finished; awaiting finish of 6 more threads\n",
      "2021-06-21 01:32:47,062 : INFO : worker thread finished; awaiting finish of 5 more threads\n",
      "2021-06-21 01:32:47,065 : INFO : worker thread finished; awaiting finish of 4 more threads\n",
      "2021-06-21 01:32:47,066 : INFO : worker thread finished; awaiting finish of 3 more threads\n",
      "2021-06-21 01:32:47,069 : INFO : worker thread finished; awaiting finish of 2 more threads\n",
      "2021-06-21 01:32:47,071 : INFO : worker thread finished; awaiting finish of 1 more threads\n",
      "2021-06-21 01:32:47,072 : INFO : worker thread finished; awaiting finish of 0 more threads\n",
      "2021-06-21 01:32:47,073 : INFO : EPOCH - 28 : training on 88639 raw words (46346 effective words) took 0.0s, 1491775 effective words/s\n",
      "2021-06-21 01:32:47,109 : INFO : worker thread finished; awaiting finish of 7 more threads\n",
      "2021-06-21 01:32:47,117 : INFO : worker thread finished; awaiting finish of 6 more threads\n"
     ]
    },
    {
     "name": "stderr",
     "output_type": "stream",
     "text": [
      "2021-06-21 01:32:47,118 : INFO : worker thread finished; awaiting finish of 5 more threads\n",
      "2021-06-21 01:32:47,118 : INFO : worker thread finished; awaiting finish of 4 more threads\n",
      "2021-06-21 01:32:47,120 : INFO : worker thread finished; awaiting finish of 3 more threads\n",
      "2021-06-21 01:32:47,120 : INFO : worker thread finished; awaiting finish of 2 more threads\n",
      "2021-06-21 01:32:47,122 : INFO : worker thread finished; awaiting finish of 1 more threads\n",
      "2021-06-21 01:32:47,122 : INFO : worker thread finished; awaiting finish of 0 more threads\n",
      "2021-06-21 01:32:47,123 : INFO : EPOCH - 29 : training on 88639 raw words (46334 effective words) took 0.0s, 1621893 effective words/s\n",
      "2021-06-21 01:32:47,143 : INFO : worker thread finished; awaiting finish of 7 more threads\n",
      "2021-06-21 01:32:47,150 : INFO : worker thread finished; awaiting finish of 6 more threads\n",
      "2021-06-21 01:32:47,162 : INFO : worker thread finished; awaiting finish of 5 more threads\n",
      "2021-06-21 01:32:47,163 : INFO : worker thread finished; awaiting finish of 4 more threads\n",
      "2021-06-21 01:32:47,164 : INFO : worker thread finished; awaiting finish of 3 more threads\n",
      "2021-06-21 01:32:47,165 : INFO : worker thread finished; awaiting finish of 2 more threads\n",
      "2021-06-21 01:32:47,165 : INFO : worker thread finished; awaiting finish of 1 more threads\n",
      "2021-06-21 01:32:47,166 : INFO : worker thread finished; awaiting finish of 0 more threads\n",
      "2021-06-21 01:32:47,167 : INFO : EPOCH - 30 : training on 88639 raw words (46259 effective words) took 0.0s, 1371190 effective words/s\n",
      "2021-06-21 01:32:47,201 : INFO : worker thread finished; awaiting finish of 7 more threads\n",
      "2021-06-21 01:32:47,207 : INFO : worker thread finished; awaiting finish of 6 more threads\n",
      "2021-06-21 01:32:47,208 : INFO : worker thread finished; awaiting finish of 5 more threads\n",
      "2021-06-21 01:32:47,210 : INFO : worker thread finished; awaiting finish of 4 more threads\n",
      "2021-06-21 01:32:47,211 : INFO : worker thread finished; awaiting finish of 3 more threads\n",
      "2021-06-21 01:32:47,212 : INFO : worker thread finished; awaiting finish of 2 more threads\n",
      "2021-06-21 01:32:47,214 : INFO : worker thread finished; awaiting finish of 1 more threads\n",
      "2021-06-21 01:32:47,215 : INFO : worker thread finished; awaiting finish of 0 more threads\n",
      "2021-06-21 01:32:47,216 : INFO : EPOCH - 31 : training on 88639 raw words (46230 effective words) took 0.0s, 1394583 effective words/s\n",
      "2021-06-21 01:32:47,244 : INFO : worker thread finished; awaiting finish of 7 more threads\n",
      "2021-06-21 01:32:47,249 : INFO : worker thread finished; awaiting finish of 6 more threads\n",
      "2021-06-21 01:32:47,251 : INFO : worker thread finished; awaiting finish of 5 more threads\n",
      "2021-06-21 01:32:47,252 : INFO : worker thread finished; awaiting finish of 4 more threads\n",
      "2021-06-21 01:32:47,253 : INFO : worker thread finished; awaiting finish of 3 more threads\n",
      "2021-06-21 01:32:47,257 : INFO : worker thread finished; awaiting finish of 2 more threads\n",
      "2021-06-21 01:32:47,258 : INFO : worker thread finished; awaiting finish of 1 more threads\n",
      "2021-06-21 01:32:47,259 : INFO : worker thread finished; awaiting finish of 0 more threads\n",
      "2021-06-21 01:32:47,260 : INFO : EPOCH - 32 : training on 88639 raw words (46319 effective words) took 0.0s, 1436429 effective words/s\n",
      "2021-06-21 01:32:47,260 : INFO : Word2Vec lifecycle event {'msg': 'training on 2836448 raw words (1482344 effective words) took 1.6s, 945836 effective words/s', 'datetime': '2021-06-21T01:32:47.260731', 'gensim': '4.0.1', 'python': '3.8.8 (default, Feb 24 2021, 13:46:16) \\n[Clang 10.0.0 ]', 'platform': 'macOS-10.15.5-x86_64-i386-64bit', 'event': 'train'}\n"
     ]
    },
    {
     "data": {
      "text/plain": [
       "(1482344, 2836448)"
      ]
     },
     "execution_count": 10,
     "metadata": {},
     "output_type": "execute_result"
    }
   ],
   "source": [
    "w2v_model.train(documents, total_examples=len(documents), epochs=W2V_EPOCH)"
   ]
  },
  {
   "cell_type": "code",
   "execution_count": 11,
   "id": "animal-oxide",
   "metadata": {},
   "outputs": [
    {
     "data": {
      "text/plain": [
       "[('filled', 0.772788405418396),\n",
       " ('violence', 0.7679764032363892),\n",
       " ('free', 0.7413351535797119),\n",
       " ('group', 0.7099680304527283),\n",
       " ('kidding', 0.6894503831863403),\n",
       " ('speech', 0.6736305952072144),\n",
       " ('promoting', 0.6541690826416016),\n",
       " ('spreading', 0.6492462158203125),\n",
       " ('spread', 0.6460229754447937),\n",
       " ('problem', 0.6403052806854248)]"
      ]
     },
     "execution_count": 11,
     "metadata": {},
     "output_type": "execute_result"
    }
   ],
   "source": [
    "w2v_model.wv.most_similar(\"hate\")"
   ]
  },
  {
   "cell_type": "code",
   "execution_count": 12,
   "id": "cooked-zoning",
   "metadata": {},
   "outputs": [
    {
     "name": "stdout",
     "output_type": "stream",
     "text": [
      "Total words 21238\n"
     ]
    }
   ],
   "source": [
    "tokenizer = Tokenizer()\n",
    "tokenizer.fit_on_texts(df_train.message)\n",
    "\n",
    "vocab_size = len(tokenizer.word_index) + 1\n",
    "print(\"Total words\", vocab_size)"
   ]
  },
  {
   "cell_type": "code",
   "execution_count": 13,
   "id": "extended-valuation",
   "metadata": {},
   "outputs": [
    {
     "name": "stdout",
     "output_type": "stream",
     "text": [
      "1812\n"
     ]
    }
   ],
   "source": [
    "# min sample size\n",
    "min_length = 1e10\n",
    "for i in df['class'].unique().tolist():\n",
    "    curr_length = len(df[df['class'] == i])\n",
    "    if curr_length != 0 and curr_length < min_length:\n",
    "        min_length = curr_length\n",
    "\n",
    "# undersample\n",
    "df_arr = []\n",
    "for i in df['class'].unique().tolist():\n",
    "    df_arr.append(df[df['class'] == i].sample(min_length))\n",
    "\n",
    "df = pd.concat(df_arr)\n",
    "df_train, df_test = train_test_split(df, test_size=1-TRAIN_SIZE, random_state=42)\n",
    "print(len(df))"
   ]
  },
  {
   "cell_type": "code",
   "execution_count": 14,
   "id": "supreme-smile",
   "metadata": {},
   "outputs": [],
   "source": [
    "x_train = pad_sequences(tokenizer.texts_to_sequences(df_train.message), maxlen=SEQUENCE_LENGTH)\n",
    "x_test = pad_sequences(tokenizer.texts_to_sequences(df_test.message), maxlen=SEQUENCE_LENGTH)"
   ]
  },
  {
   "cell_type": "code",
   "execution_count": 15,
   "id": "positive-mayor",
   "metadata": {},
   "outputs": [
    {
     "data": {
      "text/plain": [
       "['POSITIVE', 'NEGATIVE', 'NEUTRAL']"
      ]
     },
     "execution_count": 15,
     "metadata": {},
     "output_type": "execute_result"
    }
   ],
   "source": [
    "labels = df_train['class'].unique().tolist()\n",
    "labels.append(NEUTRAL)\n",
    "labels"
   ]
  },
  {
   "cell_type": "code",
   "execution_count": 16,
   "id": "outer-copying",
   "metadata": {},
   "outputs": [
    {
     "name": "stdout",
     "output_type": "stream",
     "text": [
      "y_train (1449, 1)\n",
      "y_test (363, 1)\n"
     ]
    }
   ],
   "source": [
    "encoder = LabelEncoder()\n",
    "encoder.fit(df_train['class'].tolist())\n",
    "\n",
    "y_train = encoder.transform(df_train['class'].tolist())\n",
    "y_test = encoder.transform(df_test['class'].tolist())\n",
    "\n",
    "y_train = y_train.reshape(-1,1)\n",
    "y_test = y_test.reshape(-1,1)\n",
    "\n",
    "print(\"y_train\",y_train.shape)\n",
    "print(\"y_test\",y_test.shape)"
   ]
  },
  {
   "cell_type": "code",
   "execution_count": 17,
   "id": "fifty-baghdad",
   "metadata": {},
   "outputs": [
    {
     "name": "stdout",
     "output_type": "stream",
     "text": [
      "21238\n",
      "(21238, 100)\n"
     ]
    }
   ],
   "source": [
    "embedding_matrix = np.zeros((vocab_size, W2V_SIZE))\n",
    "print(vocab_size)\n",
    "for word in w2v_model.wv.key_to_index:\n",
    "    embedding_matrix[w2v_model.wv.key_to_index[word]] = w2v_model.wv[word]\n",
    "print(embedding_matrix.shape)"
   ]
  },
  {
   "cell_type": "code",
   "execution_count": 18,
   "id": "parallel-senator",
   "metadata": {},
   "outputs": [],
   "source": [
    "embedding_layer = Embedding(vocab_size, W2V_SIZE, weights=[embedding_matrix], input_length=SEQUENCE_LENGTH, trainable=False)\n"
   ]
  },
  {
   "cell_type": "code",
   "execution_count": 19,
   "id": "pregnant-indianapolis",
   "metadata": {},
   "outputs": [
    {
     "name": "stdout",
     "output_type": "stream",
     "text": [
      "Model: \"sequential\"\n",
      "_________________________________________________________________\n",
      "Layer (type)                 Output Shape              Param #   \n",
      "=================================================================\n",
      "embedding (Embedding)        (None, 50, 100)           2123800   \n",
      "_________________________________________________________________\n",
      "conv1d (Conv1D)              (None, 46, 128)           64128     \n",
      "_________________________________________________________________\n",
      "global_max_pooling1d (Global (None, 128)               0         \n",
      "_________________________________________________________________\n",
      "dense (Dense)                (None, 10)                1290      \n",
      "_________________________________________________________________\n",
      "dense_1 (Dense)              (None, 1)                 11        \n",
      "=================================================================\n",
      "Total params: 2,189,229\n",
      "Trainable params: 65,429\n",
      "Non-trainable params: 2,123,800\n",
      "_________________________________________________________________\n"
     ]
    }
   ],
   "source": [
    "model = Sequential()\n",
    "model.add(embedding_layer)\n",
    "# model.add(Dropout(0.5))\n",
    "# model.add(LSTM(100, dropout=0.2, recurrent_dropout=0.2))\n",
    "# model.add(Dense(1, activation='sigmoid'))\n",
    "model.add(Conv1D(128, 5, activation='relu'))\n",
    "model.add(GlobalMaxPooling1D())\n",
    "model.add(Dense(10, activation='relu'))\n",
    "model.add(Dense(1, activation='sigmoid'))\n",
    "model.compile(optimizer='adam',\n",
    "              loss='binary_crossentropy',\n",
    "              metrics=[AUC(name='auc')])\n",
    "\n",
    "model.summary()"
   ]
  },
  {
   "cell_type": "code",
   "execution_count": 20,
   "id": "choice-daniel",
   "metadata": {
    "scrolled": true
   },
   "outputs": [
    {
     "name": "stdout",
     "output_type": "stream",
     "text": [
      "                                                 message     class\n",
      "9389                         afp survives apostate islam  NEGATIVE\n",
      "14231  hope someone like farrell made pro debut 17 ro...  NEGATIVE\n",
      "4040   jaketapper well stay safe keep us posted okay ...  NEGATIVE\n",
      "14240  understand jehovah witnesses vote serve absolu...  NEGATIVE\n",
      "13814  nra bloomberg soros want disarm us mercy globa...  NEGATIVE\n",
      "Epoch 1/20\n",
      "68/68 [==============================] - 15s 11ms/step - loss: 0.7017 - auc: 0.5157 - val_loss: 0.6774 - val_auc: 0.6443\n",
      "Epoch 2/20\n",
      "68/68 [==============================] - 0s 4ms/step - loss: 0.6650 - auc: 0.6691 - val_loss: 0.6530 - val_auc: 0.6975\n",
      "Epoch 3/20\n",
      "68/68 [==============================] - 0s 4ms/step - loss: 0.6289 - auc: 0.7361 - val_loss: 0.6682 - val_auc: 0.7375\n",
      "Epoch 4/20\n",
      "68/68 [==============================] - 0s 3ms/step - loss: 0.5582 - auc: 0.7889 - val_loss: 0.6128 - val_auc: 0.7428\n",
      "Epoch 5/20\n",
      "68/68 [==============================] - 0s 3ms/step - loss: 0.4979 - auc: 0.8620 - val_loss: 0.6118 - val_auc: 0.7464\n",
      "Epoch 6/20\n",
      "68/68 [==============================] - 0s 3ms/step - loss: 0.4099 - auc: 0.9021 - val_loss: 0.6171 - val_auc: 0.7372\n"
     ]
    }
   ],
   "source": [
    "print(df.head())\n",
    "callbacks = [ ReduceLROnPlateau(monitor='val_loss', patience=5, cooldown=0),\n",
    "              EarlyStopping(monitor='val_auc', min_delta=1e-4, patience=5)]\n",
    "history = model.fit(x_train, y_train,\n",
    "                    batch_size=BATCH_SIZE,\n",
    "                    epochs=EPOCHS,\n",
    "                    validation_split=0.25,\n",
    "                    verbose=1,\n",
    "                    callbacks=callbacks,\n",
    "                    shuffle=True)"
   ]
  },
  {
   "cell_type": "code",
   "execution_count": 21,
   "id": "incorporated-share",
   "metadata": {},
   "outputs": [
    {
     "name": "stdout",
     "output_type": "stream",
     "text": [
      "23/23 [==============================] - 0s 2ms/step - loss: 0.6265 - auc: 0.7232\n",
      "\n",
      "ACCURACY: 0.7232218980789185\n",
      "LOSS: 0.6264528632164001\n"
     ]
    }
   ],
   "source": [
    "score = model.evaluate(x_test, y_test, batch_size=BATCH_SIZE)\n",
    "print()\n",
    "print(\"ACCURACY:\",score[1])\n",
    "print(\"LOSS:\",score[0])"
   ]
  },
  {
   "cell_type": "code",
   "execution_count": 22,
   "id": "ordinary-purse",
   "metadata": {},
   "outputs": [
    {
     "data": {
      "image/png": "[encoded data removed]",
      "text/plain": [
       "<Figure size 432x288 with 1 Axes>"
      ]
     },
     "metadata": {
      "needs_background": "light"
     },
     "output_type": "display_data"
    },
    {
     "data": {
      "image/png": "[encoded data removed]",
      "text/plain": [
       "<Figure size 432x288 with 1 Axes>"
      ]
     },
     "metadata": {
      "needs_background": "light"
     },
     "output_type": "display_data"
    }
   ],
   "source": [
    "acc = history.history['auc']\n",
    "val_acc = history.history['val_auc']\n",
    "loss = history.history['loss']\n",
    "val_loss = history.history['val_loss']\n",
    " \n",
    "epochs = range(len(acc))\n",
    " \n",
    "plt.plot(epochs, acc, 'b', label='Training acc')\n",
    "plt.plot(epochs, val_acc, 'r', label='Validation acc')\n",
    "plt.title('Training and validation accuracy')\n",
    "plt.legend()\n",
    " \n",
    "plt.figure()\n",
    " \n",
    "plt.plot(epochs, loss, 'b', label='Training loss')\n",
    "plt.plot(epochs, val_loss, 'r', label='Validation loss')\n",
    "plt.title('Training and validation loss')\n",
    "plt.legend()\n",
    " \n",
    "plt.show()"
   ]
  },
  {
   "cell_type": "code",
   "execution_count": 23,
   "id": "partial-broad",
   "metadata": {},
   "outputs": [],
   "source": [
    "def decode_sentiment(score, include_neutral=True):\n",
    "    if include_neutral:        \n",
    "        label = NEUTRAL\n",
    "        if score <= SENTIMENT_THRESHOLDS[0]:\n",
    "            label = NEGATIVE\n",
    "        elif score >= SENTIMENT_THRESHOLDS[1]:\n",
    "            label = POSITIVE\n",
    "\n",
    "        return label\n",
    "    else:\n",
    "        return NEGATIVE if score < 0.5 else POSITIVE"
   ]
  },
  {
   "cell_type": "code",
   "execution_count": 24,
   "id": "square-review",
   "metadata": {},
   "outputs": [],
   "source": [
    "def predict(text, include_neutral=True):\n",
    "    start_at = time.time()\n",
    "    # Tokenize text\n",
    "    x_test = pad_sequences(tokenizer.texts_to_sequences([text]), maxlen=SEQUENCE_LENGTH)\n",
    "    # Predict\n",
    "    score = model.predict([x_test])[0]\n",
    "    # Decode sentiment\n",
    "    label = decode_sentiment(score, include_neutral=include_neutral)\n",
    "\n",
    "    return {\"label\": label, \"score\": float(score),\n",
    "       \"elapsed_time\": time.time()-start_at}  "
   ]
  },
  {
   "cell_type": "code",
   "execution_count": 25,
   "id": "successful-munich",
   "metadata": {},
   "outputs": [
    {
     "data": {
      "text/plain": [
       "{'label': 'NEGATIVE',\n",
       " 'score': 0.3749382793903351,\n",
       " 'elapsed_time': 0.27918314933776855}"
      ]
     },
     "execution_count": 25,
     "metadata": {},
     "output_type": "execute_result"
    }
   ],
   "source": [
    "predict('I hate the weather')"
   ]
  },
  {
   "cell_type": "code",
   "execution_count": 26,
   "id": "eleven-syndication",
   "metadata": {},
   "outputs": [
    {
     "name": "stderr",
     "output_type": "stream",
     "text": [
      "2021-06-21 01:33:04,500 : INFO : Word2Vec lifecycle event {'fname_or_handle': '../models/model.w2v', 'separately': 'None', 'sep_limit': 10485760, 'ignore': frozenset(), 'datetime': '2021-06-21T01:33:04.500246', 'gensim': '4.0.1', 'python': '3.8.8 (default, Feb 24 2021, 13:46:16) \\n[Clang 10.0.0 ]', 'platform': 'macOS-10.15.5-x86_64-i386-64bit', 'event': 'saving'}\n",
      "2021-06-21 01:33:04,501 : INFO : not storing attribute cum_table\n",
      "2021-06-21 01:33:04,504 : INFO : saved ../models/model.w2v\n"
     ]
    }
   ],
   "source": [
    "model.save(KERAS_MODEL)\n",
    "w2v_model.save(WORD2VEC_MODEL)\n",
    "pickle.dump(tokenizer, open(TOKENIZER_MODEL, \"wb\"), protocol=0)\n",
    "pickle.dump(encoder, open(ENCODER_MODEL, \"wb\"), protocol=0)"
   ]
  }
 ],
 "metadata": {
  "kernelspec": {
   "display_name": "Python 3",
   "language": "python",
   "name": "python3"
  },
  "language_info": {
   "codemirror_mode": {
    "name": "ipython",
    "version": 3
   },
   "file_extension": ".py",
   "mimetype": "text/x-python",
   "name": "python",
   "nbconvert_exporter": "python",
   "pygments_lexer": "ipython3",
   "version": "3.8.8"
  },
  "latex_envs": {
   "LaTeX_envs_menu_present": true,
   "autoclose": false,
   "autocomplete": true,
   "bibliofile": "biblio.bib",
   "cite_by": "apalike",
   "current_citInitial": 1,
   "eqLabelWithNumbers": true,
   "eqNumInitial": 1,
   "hotkeys": {
    "equation": "Ctrl-E",
    "itemize": "Ctrl-I"
   },
   "labels_anchors": false,
   "latex_user_defs": false,
   "report_style_numbering": false,
   "user_envs_cfg": false
  },
  "toc": {
   "base_numbering": 1,
   "nav_menu": {},
   "number_sections": true,
   "sideBar": true,
   "skip_h1_title": false,
   "title_cell": "Table of Contents",
   "title_sidebar": "Contents",
   "toc_cell": false,
   "toc_position": {},
   "toc_section_display": true,
   "toc_window_display": false
  }
 },
 "nbformat": 4,
 "nbformat_minor": 5
}
