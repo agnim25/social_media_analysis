{
 "cells": [
  {
   "cell_type": "code",
   "execution_count": 1,
   "id": "handy-database",
   "metadata": {},
   "outputs": [
    {
     "name": "stderr",
     "output_type": "stream",
     "text": [
      "/opt/anaconda3/lib/python3.8/site-packages/gensim/similarities/__init__.py:15: UserWarning: The gensim.similarities.levenshtein submodule is disabled, because the optional Levenshtein package <https://pypi.org/project/python-Levenshtein/> is unavailable. Install Levenhstein (e.g. `pip install python-Levenshtein`) to suppress this warning.\n",
      "  warnings.warn(msg)\n"
     ]
    }
   ],
   "source": [
    "# DataFrame\n",
    "import pandas as pd\n",
    "\n",
    "# Matplot\n",
    "import matplotlib.pyplot as plt\n",
    "%matplotlib inline\n",
    "\n",
    "# Scikit-learn\n",
    "from sklearn.model_selection import train_test_split\n",
    "from sklearn.preprocessing import LabelEncoder\n",
    "from sklearn.metrics import confusion_matrix, classification_report, accuracy_score\n",
    "from sklearn.manifold import TSNE\n",
    "from sklearn.feature_extraction.text import TfidfVectorizer\n",
    "\n",
    "# Keras\n",
    "from keras.preprocessing.text import Tokenizer\n",
    "from keras.preprocessing.sequence import pad_sequences\n",
    "from keras.models import Sequential\n",
    "from keras.layers import Activation, Dense, Dropout, Embedding, Flatten, Conv1D, MaxPooling1D, LSTM, GlobalMaxPooling1D\n",
    "from keras import utils\n",
    "from keras.callbacks import ReduceLROnPlateau, EarlyStopping\n",
    "from keras.metrics import AUC\n",
    "\n",
    "# nltk\n",
    "import nltk\n",
    "from nltk.corpus import stopwords\n",
    "from  nltk.stem import SnowballStemmer\n",
    "\n",
    "# Word2vec\n",
    "import gensim\n",
    "\n",
    "# Utility\n",
    "import re\n",
    "import numpy as np\n",
    "import os\n",
    "from collections import Counter\n",
    "import logging\n",
    "import time\n",
    "import pickle\n",
    "import itertools\n",
    "\n",
    "# Set log\n",
    "logging.basicConfig(format='%(asctime)s : %(levelname)s : %(message)s', level=logging.INFO)"
   ]
  },
  {
   "cell_type": "code",
   "execution_count": 2,
   "id": "relevant-premiere",
   "metadata": {},
   "outputs": [],
   "source": [
    "# PATHS\n",
    "data_path = '../data/'\n",
    "notebooks = '../notebooks/'\n",
    "models = '../models/'\n",
    "\n",
    "# DATASET\n",
    "DATASET_COLUMNS = [\"message\", \"class\"]\n",
    "TRAIN_SIZE = 0.8\n",
    "\n",
    "# TEXT CLEANING\n",
    "TEXT_CLEANING_RE = \"@\\S+|https?:\\S+|http?:\\S|[^A-Za-z0-9]+\"\n",
    "\n",
    "# WORD2VEC \n",
    "W2V_SIZE = 100\n",
    "W2V_WINDOW = 7\n",
    "W2V_EPOCH = 32\n",
    "W2V_MIN_COUNT = 10\n",
    "\n",
    "# KERAS\n",
    "SEQUENCE_LENGTH = 50\n",
    "EPOCHS = 20\n",
    "BATCH_SIZE = 16\n",
    "\n",
    "# SENTIMENT\n",
    "POSITIVE = \"POSITIVE\"\n",
    "NEGATIVE = \"NEGATIVE\"\n",
    "NEUTRAL = \"NEUTRAL\"\n",
    "SENTIMENT_THRESHOLDS = (0.4, 0.7)\n",
    "\n",
    "# EXPORT\n",
    "KERAS_MODEL = models + \"model.h5\"\n",
    "WORD2VEC_MODEL = models + \"model.w2v\"\n",
    "TOKENIZER_MODEL = models + \"tokenizer.pkl\"\n",
    "ENCODER_MODEL = models + \"encoder.pkl\""
   ]
  },
  {
   "cell_type": "code",
   "execution_count": 3,
   "id": "acting-geometry",
   "metadata": {},
   "outputs": [
    {
     "data": {
      "text/html": [
       "<div>\n",
       "<style scoped>\n",
       "    .dataframe tbody tr th:only-of-type {\n",
       "        vertical-align: middle;\n",
       "    }\n",
       "\n",
       "    .dataframe tbody tr th {\n",
       "        vertical-align: top;\n",
       "    }\n",
       "\n",
       "    .dataframe thead th {\n",
       "        text-align: right;\n",
       "    }\n",
       "</style>\n",
       "<table border=\"1\" class=\"dataframe\">\n",
       "  <thead>\n",
       "    <tr style=\"text-align: right;\">\n",
       "      <th></th>\n",
       "      <th>message</th>\n",
       "      <th>class</th>\n",
       "    </tr>\n",
       "  </thead>\n",
       "  <tbody>\n",
       "    <tr>\n",
       "      <th>0</th>\n",
       "      <td>@RexHuppke Ah fuck him, sounds like he'll be d...</td>\n",
       "      <td>-1</td>\n",
       "    </tr>\n",
       "    <tr>\n",
       "      <th>1</th>\n",
       "      <td>@mariaaraujo98 @Val_Voshchevska @angelasingh24...</td>\n",
       "      <td>1</td>\n",
       "    </tr>\n",
       "    <tr>\n",
       "      <th>2</th>\n",
       "      <td>@GenePark @myhlee @PostBaron @mboorstein Don't...</td>\n",
       "      <td>-1</td>\n",
       "    </tr>\n",
       "    <tr>\n",
       "      <th>3</th>\n",
       "      <td>@peterbakernyt Sanders can choke on his dandruff.</td>\n",
       "      <td>-1</td>\n",
       "    </tr>\n",
       "    <tr>\n",
       "      <th>4</th>\n",
       "      <td>@realDonaldTrump @FoxNews Fox News aka the Tru...</td>\n",
       "      <td>-1</td>\n",
       "    </tr>\n",
       "  </tbody>\n",
       "</table>\n",
       "</div>"
      ],
      "text/plain": [
       "                                             message  class\n",
       "0  @RexHuppke Ah fuck him, sounds like he'll be d...     -1\n",
       "1  @mariaaraujo98 @Val_Voshchevska @angelasingh24...      1\n",
       "2  @GenePark @myhlee @PostBaron @mboorstein Don't...     -1\n",
       "3  @peterbakernyt Sanders can choke on his dandruff.     -1\n",
       "4  @realDonaldTrump @FoxNews Fox News aka the Tru...     -1"
      ]
     },
     "execution_count": 3,
     "metadata": {},
     "output_type": "execute_result"
    }
   ],
   "source": [
    "df = pd.read_csv(data_path + 'Train_Hate_All.csv')\n",
    "df = df.rename(columns={'tweet': 'message', 'Hate_Speech': 'class'})\n",
    "df = df.replace(0, -1)\n",
    "df.head()"
   ]
  },
  {
   "cell_type": "code",
   "execution_count": 5,
   "id": "needed-telescope",
   "metadata": {},
   "outputs": [],
   "source": [
    "decode_map = {-1: \"NEGATIVE\", 0: \"NEUTRAL\", 1: \"POSITIVE\"}\n",
    "def decode_sentiment(label):\n",
    "    return decode_map[int(label)]\n",
    "df['class'] = df['class'].apply(lambda x: decode_sentiment(x))"
   ]
  },
  {
   "cell_type": "code",
   "execution_count": 6,
   "id": "moral-supervision",
   "metadata": {},
   "outputs": [],
   "source": [
    "stop_words = stopwords.words(\"english\")\n",
    "stemmer = SnowballStemmer(\"english\")\n",
    "def preprocess(text, stem=False):\n",
    "    # Remove link,user and special characters\n",
    "    text = re.sub(TEXT_CLEANING_RE, ' ', str(text).lower()).strip()\n",
    "    tokens = []\n",
    "    for token in text.split():\n",
    "        if token not in stop_words:\n",
    "            if stem:\n",
    "                tokens.append(stemmer.stem(token))\n",
    "            else:\n",
    "                tokens.append(token)\n",
    "    return \" \".join(tokens)\n",
    "df.message = df.message.apply(lambda x: preprocess(x))"
   ]
  },
  {
   "cell_type": "code",
   "execution_count": 7,
   "id": "international-cowboy",
   "metadata": {
    "scrolled": true
   },
   "outputs": [
    {
     "name": "stdout",
     "output_type": "stream",
     "text": [
      "TRAIN size: 11898\n",
      "TEST size: 2975\n"
     ]
    }
   ],
   "source": [
    "df_train, df_test = train_test_split(df, test_size=1-TRAIN_SIZE, random_state=42)\n",
    "print(\"TRAIN size:\", len(df_train))\n",
    "print(\"TEST size:\", len(df_test))"
   ]
  },
  {
   "cell_type": "code",
   "execution_count": 10,
   "id": "silver-twist",
   "metadata": {},
   "outputs": [
    {
     "name": "stderr",
     "output_type": "stream",
     "text": [
      "2021-06-20 23:59:31,313 : INFO : Word2Vec lifecycle event {'params': 'Word2Vec(vocab=0, vector_size=100, alpha=0.025)', 'datetime': '2021-06-20T23:59:31.313667', 'gensim': '4.0.1', 'python': '3.8.8 (default, Feb 24 2021, 13:46:16) \\n[Clang 10.0.0 ]', 'platform': 'macOS-10.15.5-x86_64-i386-64bit', 'event': 'created'}\n",
      "2021-06-20 23:59:31,314 : INFO : collecting all words and their counts\n",
      "2021-06-20 23:59:31,315 : INFO : PROGRESS: at sentence #0, processed 0 words, keeping 0 word types\n",
      "2021-06-20 23:59:31,334 : INFO : PROGRESS: at sentence #10000, processed 74492 words, keeping 18836 word types\n",
      "2021-06-20 23:59:31,338 : INFO : collected 21237 word types from a corpus of 88639 raw words and 11898 sentences\n",
      "2021-06-20 23:59:31,339 : INFO : Creating a fresh vocabulary\n",
      "2021-06-20 23:59:31,352 : INFO : Word2Vec lifecycle event {'msg': 'effective_min_count=10 retains 1420 unique words (6.686443471300089%% of original 21237, drops 19817)', 'datetime': '2021-06-20T23:59:31.352483', 'gensim': '4.0.1', 'python': '3.8.8 (default, Feb 24 2021, 13:46:16) \\n[Clang 10.0.0 ]', 'platform': 'macOS-10.15.5-x86_64-i386-64bit', 'event': 'prepare_vocab'}\n",
      "2021-06-20 23:59:31,353 : INFO : Word2Vec lifecycle event {'msg': 'effective_min_count=10 leaves 54515 word corpus (61.50227326571825%% of original 88639, drops 34124)', 'datetime': '2021-06-20T23:59:31.353314', 'gensim': '4.0.1', 'python': '3.8.8 (default, Feb 24 2021, 13:46:16) \\n[Clang 10.0.0 ]', 'platform': 'macOS-10.15.5-x86_64-i386-64bit', 'event': 'prepare_vocab'}\n",
      "2021-06-20 23:59:31,362 : INFO : deleting the raw counts dictionary of 21237 items\n",
      "2021-06-20 23:59:31,364 : INFO : sample=0.001 downsamples 48 most-common words\n",
      "2021-06-20 23:59:31,365 : INFO : Word2Vec lifecycle event {'msg': 'downsampling leaves estimated 46338.26343670153 word corpus (85.0%% of prior 54515)', 'datetime': '2021-06-20T23:59:31.365391', 'gensim': '4.0.1', 'python': '3.8.8 (default, Feb 24 2021, 13:46:16) \\n[Clang 10.0.0 ]', 'platform': 'macOS-10.15.5-x86_64-i386-64bit', 'event': 'prepare_vocab'}\n",
      "2021-06-20 23:59:31,383 : INFO : estimated required memory for 1420 words and 100 dimensions: 1846000 bytes\n",
      "2021-06-20 23:59:31,384 : INFO : resetting layer weights\n",
      "2021-06-20 23:59:31,385 : INFO : Word2Vec lifecycle event {'update': False, 'trim_rule': 'None', 'datetime': '2021-06-20T23:59:31.385556', 'gensim': '4.0.1', 'python': '3.8.8 (default, Feb 24 2021, 13:46:16) \\n[Clang 10.0.0 ]', 'platform': 'macOS-10.15.5-x86_64-i386-64bit', 'event': 'build_vocab'}\n"
     ]
    },
    {
     "name": "stdout",
     "output_type": "stream",
     "text": [
      "Vocab size 1420\n"
     ]
    }
   ],
   "source": [
    "documents = [_text.split() for _text in df_train.message] \n",
    "w2v_model = gensim.models.word2vec.Word2Vec(window=W2V_WINDOW, \n",
    "                                            min_count=W2V_MIN_COUNT, \n",
    "                                            workers=8)\n",
    "w2v_model.build_vocab(documents)\n",
    "# words = w2v_model.wv.vocab.keys()\n",
    "vocab_size = len(w2v_model.wv)\n",
    "print(\"Vocab size\", vocab_size)"
   ]
  },
  {
   "cell_type": "code",
   "execution_count": 11,
   "id": "lesser-color",
   "metadata": {},
   "outputs": [
    {
     "name": "stderr",
     "output_type": "stream",
     "text": [
      "2021-06-20 23:59:33,377 : INFO : Word2Vec lifecycle event {'msg': 'training model with 8 workers on 1420 vocabulary and 100 features, using sg=0 hs=0 sample=0.001 negative=5 window=7', 'datetime': '2021-06-20T23:59:33.377165', 'gensim': '4.0.1', 'python': '3.8.8 (default, Feb 24 2021, 13:46:16) \\n[Clang 10.0.0 ]', 'platform': 'macOS-10.15.5-x86_64-i386-64bit', 'event': 'train'}\n",
      "2021-06-20 23:59:33,417 : INFO : worker thread finished; awaiting finish of 7 more threads\n",
      "2021-06-20 23:59:33,429 : INFO : worker thread finished; awaiting finish of 6 more threads\n",
      "2021-06-20 23:59:33,432 : INFO : worker thread finished; awaiting finish of 5 more threads\n",
      "2021-06-20 23:59:33,433 : INFO : worker thread finished; awaiting finish of 4 more threads\n",
      "2021-06-20 23:59:33,434 : INFO : worker thread finished; awaiting finish of 3 more threads\n",
      "2021-06-20 23:59:33,437 : INFO : worker thread finished; awaiting finish of 2 more threads\n",
      "2021-06-20 23:59:33,439 : INFO : worker thread finished; awaiting finish of 1 more threads\n",
      "2021-06-20 23:59:33,441 : INFO : worker thread finished; awaiting finish of 0 more threads\n",
      "2021-06-20 23:59:33,443 : INFO : EPOCH - 1 : training on 88639 raw words (46300 effective words) took 0.1s, 886514 effective words/s\n",
      "2021-06-20 23:59:33,490 : INFO : worker thread finished; awaiting finish of 7 more threads\n",
      "2021-06-20 23:59:33,493 : INFO : worker thread finished; awaiting finish of 6 more threads\n",
      "2021-06-20 23:59:33,494 : INFO : worker thread finished; awaiting finish of 5 more threads\n",
      "2021-06-20 23:59:33,494 : INFO : worker thread finished; awaiting finish of 4 more threads\n",
      "2021-06-20 23:59:33,495 : INFO : worker thread finished; awaiting finish of 3 more threads\n",
      "2021-06-20 23:59:33,496 : INFO : worker thread finished; awaiting finish of 2 more threads\n",
      "2021-06-20 23:59:33,497 : INFO : worker thread finished; awaiting finish of 1 more threads\n",
      "2021-06-20 23:59:33,498 : INFO : worker thread finished; awaiting finish of 0 more threads\n",
      "2021-06-20 23:59:33,499 : INFO : EPOCH - 2 : training on 88639 raw words (46336 effective words) took 0.0s, 1377335 effective words/s\n",
      "2021-06-20 23:59:33,528 : INFO : worker thread finished; awaiting finish of 7 more threads\n",
      "2021-06-20 23:59:33,532 : INFO : worker thread finished; awaiting finish of 6 more threads\n",
      "2021-06-20 23:59:33,541 : INFO : worker thread finished; awaiting finish of 5 more threads\n",
      "2021-06-20 23:59:33,547 : INFO : worker thread finished; awaiting finish of 4 more threads\n",
      "2021-06-20 23:59:33,548 : INFO : worker thread finished; awaiting finish of 3 more threads\n",
      "2021-06-20 23:59:33,549 : INFO : worker thread finished; awaiting finish of 2 more threads\n",
      "2021-06-20 23:59:33,551 : INFO : worker thread finished; awaiting finish of 1 more threads\n",
      "2021-06-20 23:59:33,553 : INFO : worker thread finished; awaiting finish of 0 more threads\n",
      "2021-06-20 23:59:33,554 : INFO : EPOCH - 3 : training on 88639 raw words (46346 effective words) took 0.0s, 1718466 effective words/s\n",
      "2021-06-20 23:59:33,579 : INFO : worker thread finished; awaiting finish of 7 more threads\n",
      "2021-06-20 23:59:33,595 : INFO : worker thread finished; awaiting finish of 6 more threads\n",
      "2021-06-20 23:59:33,597 : INFO : worker thread finished; awaiting finish of 5 more threads\n",
      "2021-06-20 23:59:33,598 : INFO : worker thread finished; awaiting finish of 4 more threads\n",
      "2021-06-20 23:59:33,599 : INFO : worker thread finished; awaiting finish of 3 more threads\n",
      "2021-06-20 23:59:33,603 : INFO : worker thread finished; awaiting finish of 2 more threads\n",
      "2021-06-20 23:59:33,606 : INFO : worker thread finished; awaiting finish of 1 more threads\n",
      "2021-06-20 23:59:33,607 : INFO : worker thread finished; awaiting finish of 0 more threads\n",
      "2021-06-20 23:59:33,609 : INFO : EPOCH - 4 : training on 88639 raw words (46266 effective words) took 0.0s, 1079494 effective words/s\n",
      "2021-06-20 23:59:33,635 : INFO : worker thread finished; awaiting finish of 7 more threads\n",
      "2021-06-20 23:59:33,652 : INFO : worker thread finished; awaiting finish of 6 more threads\n",
      "2021-06-20 23:59:33,655 : INFO : worker thread finished; awaiting finish of 5 more threads\n",
      "2021-06-20 23:59:33,656 : INFO : worker thread finished; awaiting finish of 4 more threads\n",
      "2021-06-20 23:59:33,657 : INFO : worker thread finished; awaiting finish of 3 more threads\n",
      "2021-06-20 23:59:33,659 : INFO : worker thread finished; awaiting finish of 2 more threads\n",
      "2021-06-20 23:59:33,662 : INFO : worker thread finished; awaiting finish of 1 more threads\n",
      "2021-06-20 23:59:33,663 : INFO : worker thread finished; awaiting finish of 0 more threads\n",
      "2021-06-20 23:59:33,663 : INFO : EPOCH - 5 : training on 88639 raw words (46356 effective words) took 0.0s, 1243541 effective words/s\n",
      "2021-06-20 23:59:33,694 : INFO : worker thread finished; awaiting finish of 7 more threads\n",
      "2021-06-20 23:59:33,700 : INFO : worker thread finished; awaiting finish of 6 more threads\n",
      "2021-06-20 23:59:33,702 : INFO : worker thread finished; awaiting finish of 5 more threads\n",
      "2021-06-20 23:59:33,708 : INFO : worker thread finished; awaiting finish of 4 more threads\n",
      "2021-06-20 23:59:33,709 : INFO : worker thread finished; awaiting finish of 3 more threads\n",
      "2021-06-20 23:59:33,712 : INFO : worker thread finished; awaiting finish of 2 more threads\n",
      "2021-06-20 23:59:33,714 : INFO : worker thread finished; awaiting finish of 1 more threads\n",
      "2021-06-20 23:59:33,714 : INFO : worker thread finished; awaiting finish of 0 more threads\n",
      "2021-06-20 23:59:33,715 : INFO : EPOCH - 6 : training on 88639 raw words (46255 effective words) took 0.0s, 1397156 effective words/s\n",
      "2021-06-20 23:59:33,748 : INFO : worker thread finished; awaiting finish of 7 more threads\n",
      "2021-06-20 23:59:33,754 : INFO : worker thread finished; awaiting finish of 6 more threads\n",
      "2021-06-20 23:59:33,758 : INFO : worker thread finished; awaiting finish of 5 more threads\n",
      "2021-06-20 23:59:33,760 : INFO : worker thread finished; awaiting finish of 4 more threads\n",
      "2021-06-20 23:59:33,762 : INFO : worker thread finished; awaiting finish of 3 more threads\n",
      "2021-06-20 23:59:33,763 : INFO : worker thread finished; awaiting finish of 2 more threads\n",
      "2021-06-20 23:59:33,764 : INFO : worker thread finished; awaiting finish of 1 more threads\n",
      "2021-06-20 23:59:33,765 : INFO : worker thread finished; awaiting finish of 0 more threads\n",
      "2021-06-20 23:59:33,765 : INFO : EPOCH - 7 : training on 88639 raw words (46425 effective words) took 0.0s, 1253749 effective words/s\n",
      "2021-06-20 23:59:33,796 : INFO : worker thread finished; awaiting finish of 7 more threads\n",
      "2021-06-20 23:59:33,801 : INFO : worker thread finished; awaiting finish of 6 more threads\n",
      "2021-06-20 23:59:33,812 : INFO : worker thread finished; awaiting finish of 5 more threads\n",
      "2021-06-20 23:59:33,816 : INFO : worker thread finished; awaiting finish of 4 more threads\n",
      "2021-06-20 23:59:33,818 : INFO : worker thread finished; awaiting finish of 3 more threads\n",
      "2021-06-20 23:59:33,821 : INFO : worker thread finished; awaiting finish of 2 more threads\n",
      "2021-06-20 23:59:33,822 : INFO : worker thread finished; awaiting finish of 1 more threads\n",
      "2021-06-20 23:59:33,823 : INFO : worker thread finished; awaiting finish of 0 more threads\n",
      "2021-06-20 23:59:33,825 : INFO : EPOCH - 8 : training on 88639 raw words (46284 effective words) took 0.0s, 1052523 effective words/s\n",
      "2021-06-20 23:59:33,862 : INFO : worker thread finished; awaiting finish of 7 more threads\n",
      "2021-06-20 23:59:33,866 : INFO : worker thread finished; awaiting finish of 6 more threads\n",
      "2021-06-20 23:59:33,868 : INFO : worker thread finished; awaiting finish of 5 more threads\n",
      "2021-06-20 23:59:33,868 : INFO : worker thread finished; awaiting finish of 4 more threads\n",
      "2021-06-20 23:59:33,872 : INFO : worker thread finished; awaiting finish of 3 more threads\n",
      "2021-06-20 23:59:33,876 : INFO : worker thread finished; awaiting finish of 2 more threads\n",
      "2021-06-20 23:59:33,877 : INFO : worker thread finished; awaiting finish of 1 more threads\n",
      "2021-06-20 23:59:33,877 : INFO : worker thread finished; awaiting finish of 0 more threads\n",
      "2021-06-20 23:59:33,878 : INFO : EPOCH - 9 : training on 88639 raw words (46476 effective words) took 0.0s, 1410875 effective words/s\n",
      "2021-06-20 23:59:33,913 : INFO : worker thread finished; awaiting finish of 7 more threads\n"
     ]
    },
    {
     "name": "stderr",
     "output_type": "stream",
     "text": [
      "2021-06-20 23:59:33,914 : INFO : worker thread finished; awaiting finish of 6 more threads\n",
      "2021-06-20 23:59:33,917 : INFO : worker thread finished; awaiting finish of 5 more threads\n",
      "2021-06-20 23:59:33,923 : INFO : worker thread finished; awaiting finish of 4 more threads\n",
      "2021-06-20 23:59:33,924 : INFO : worker thread finished; awaiting finish of 3 more threads\n",
      "2021-06-20 23:59:33,927 : INFO : worker thread finished; awaiting finish of 2 more threads\n",
      "2021-06-20 23:59:33,928 : INFO : worker thread finished; awaiting finish of 1 more threads\n",
      "2021-06-20 23:59:33,929 : INFO : worker thread finished; awaiting finish of 0 more threads\n",
      "2021-06-20 23:59:33,929 : INFO : EPOCH - 10 : training on 88639 raw words (46392 effective words) took 0.0s, 1164023 effective words/s\n",
      "2021-06-20 23:59:33,951 : INFO : worker thread finished; awaiting finish of 7 more threads\n",
      "2021-06-20 23:59:33,961 : INFO : worker thread finished; awaiting finish of 6 more threads\n",
      "2021-06-20 23:59:33,971 : INFO : worker thread finished; awaiting finish of 5 more threads\n",
      "2021-06-20 23:59:33,975 : INFO : worker thread finished; awaiting finish of 4 more threads\n",
      "2021-06-20 23:59:33,977 : INFO : worker thread finished; awaiting finish of 3 more threads\n",
      "2021-06-20 23:59:33,978 : INFO : worker thread finished; awaiting finish of 2 more threads\n",
      "2021-06-20 23:59:33,979 : INFO : worker thread finished; awaiting finish of 1 more threads\n",
      "2021-06-20 23:59:33,980 : INFO : worker thread finished; awaiting finish of 0 more threads\n",
      "2021-06-20 23:59:33,981 : INFO : EPOCH - 11 : training on 88639 raw words (46166 effective words) took 0.0s, 1220136 effective words/s\n",
      "2021-06-20 23:59:34,009 : INFO : worker thread finished; awaiting finish of 7 more threads\n",
      "2021-06-20 23:59:34,016 : INFO : worker thread finished; awaiting finish of 6 more threads\n",
      "2021-06-20 23:59:34,024 : INFO : worker thread finished; awaiting finish of 5 more threads\n",
      "2021-06-20 23:59:34,025 : INFO : worker thread finished; awaiting finish of 4 more threads\n",
      "2021-06-20 23:59:34,026 : INFO : worker thread finished; awaiting finish of 3 more threads\n",
      "2021-06-20 23:59:34,027 : INFO : worker thread finished; awaiting finish of 2 more threads\n",
      "2021-06-20 23:59:34,029 : INFO : worker thread finished; awaiting finish of 1 more threads\n",
      "2021-06-20 23:59:34,030 : INFO : worker thread finished; awaiting finish of 0 more threads\n",
      "2021-06-20 23:59:34,030 : INFO : EPOCH - 12 : training on 88639 raw words (46416 effective words) took 0.0s, 1178026 effective words/s\n",
      "2021-06-20 23:59:34,054 : INFO : worker thread finished; awaiting finish of 7 more threads\n",
      "2021-06-20 23:59:34,065 : INFO : worker thread finished; awaiting finish of 6 more threads\n",
      "2021-06-20 23:59:34,066 : INFO : worker thread finished; awaiting finish of 5 more threads\n",
      "2021-06-20 23:59:34,070 : INFO : worker thread finished; awaiting finish of 4 more threads\n",
      "2021-06-20 23:59:34,071 : INFO : worker thread finished; awaiting finish of 3 more threads\n",
      "2021-06-20 23:59:34,072 : INFO : worker thread finished; awaiting finish of 2 more threads\n",
      "2021-06-20 23:59:34,073 : INFO : worker thread finished; awaiting finish of 1 more threads\n",
      "2021-06-20 23:59:34,073 : INFO : worker thread finished; awaiting finish of 0 more threads\n",
      "2021-06-20 23:59:34,073 : INFO : EPOCH - 13 : training on 88639 raw words (46302 effective words) took 0.0s, 1364817 effective words/s\n",
      "2021-06-20 23:59:34,097 : INFO : worker thread finished; awaiting finish of 7 more threads\n",
      "2021-06-20 23:59:34,106 : INFO : worker thread finished; awaiting finish of 6 more threads\n",
      "2021-06-20 23:59:34,107 : INFO : worker thread finished; awaiting finish of 5 more threads\n",
      "2021-06-20 23:59:34,114 : INFO : worker thread finished; awaiting finish of 4 more threads\n",
      "2021-06-20 23:59:34,116 : INFO : worker thread finished; awaiting finish of 3 more threads\n",
      "2021-06-20 23:59:34,117 : INFO : worker thread finished; awaiting finish of 2 more threads\n",
      "2021-06-20 23:59:34,121 : INFO : worker thread finished; awaiting finish of 1 more threads\n",
      "2021-06-20 23:59:34,122 : INFO : worker thread finished; awaiting finish of 0 more threads\n",
      "2021-06-20 23:59:34,123 : INFO : EPOCH - 14 : training on 88639 raw words (46411 effective words) took 0.0s, 1568169 effective words/s\n",
      "2021-06-20 23:59:34,160 : INFO : worker thread finished; awaiting finish of 7 more threads\n",
      "2021-06-20 23:59:34,167 : INFO : worker thread finished; awaiting finish of 6 more threads\n",
      "2021-06-20 23:59:34,167 : INFO : worker thread finished; awaiting finish of 5 more threads\n",
      "2021-06-20 23:59:34,168 : INFO : worker thread finished; awaiting finish of 4 more threads\n",
      "2021-06-20 23:59:34,169 : INFO : worker thread finished; awaiting finish of 3 more threads\n",
      "2021-06-20 23:59:34,170 : INFO : worker thread finished; awaiting finish of 2 more threads\n",
      "2021-06-20 23:59:34,172 : INFO : worker thread finished; awaiting finish of 1 more threads\n",
      "2021-06-20 23:59:34,172 : INFO : worker thread finished; awaiting finish of 0 more threads\n",
      "2021-06-20 23:59:34,173 : INFO : EPOCH - 15 : training on 88639 raw words (46268 effective words) took 0.0s, 1166584 effective words/s\n",
      "2021-06-20 23:59:34,215 : INFO : worker thread finished; awaiting finish of 7 more threads\n",
      "2021-06-20 23:59:34,216 : INFO : worker thread finished; awaiting finish of 6 more threads\n",
      "2021-06-20 23:59:34,217 : INFO : worker thread finished; awaiting finish of 5 more threads\n",
      "2021-06-20 23:59:34,218 : INFO : worker thread finished; awaiting finish of 4 more threads\n",
      "2021-06-20 23:59:34,219 : INFO : worker thread finished; awaiting finish of 3 more threads\n",
      "2021-06-20 23:59:34,220 : INFO : worker thread finished; awaiting finish of 2 more threads\n",
      "2021-06-20 23:59:34,221 : INFO : worker thread finished; awaiting finish of 1 more threads\n",
      "2021-06-20 23:59:34,222 : INFO : worker thread finished; awaiting finish of 0 more threads\n",
      "2021-06-20 23:59:34,222 : INFO : EPOCH - 16 : training on 88639 raw words (46367 effective words) took 0.0s, 1365706 effective words/s\n",
      "2021-06-20 23:59:34,248 : INFO : worker thread finished; awaiting finish of 7 more threads\n",
      "2021-06-20 23:59:34,255 : INFO : worker thread finished; awaiting finish of 6 more threads\n",
      "2021-06-20 23:59:34,260 : INFO : worker thread finished; awaiting finish of 5 more threads\n",
      "2021-06-20 23:59:34,267 : INFO : worker thread finished; awaiting finish of 4 more threads\n",
      "2021-06-20 23:59:34,268 : INFO : worker thread finished; awaiting finish of 3 more threads\n",
      "2021-06-20 23:59:34,269 : INFO : worker thread finished; awaiting finish of 2 more threads\n",
      "2021-06-20 23:59:34,271 : INFO : worker thread finished; awaiting finish of 1 more threads\n",
      "2021-06-20 23:59:34,271 : INFO : worker thread finished; awaiting finish of 0 more threads\n",
      "2021-06-20 23:59:34,272 : INFO : EPOCH - 17 : training on 88639 raw words (46457 effective words) took 0.0s, 1327478 effective words/s\n",
      "2021-06-20 23:59:34,301 : INFO : worker thread finished; awaiting finish of 7 more threads\n",
      "2021-06-20 23:59:34,303 : INFO : worker thread finished; awaiting finish of 6 more threads\n",
      "2021-06-20 23:59:34,311 : INFO : worker thread finished; awaiting finish of 5 more threads\n",
      "2021-06-20 23:59:34,314 : INFO : worker thread finished; awaiting finish of 4 more threads\n",
      "2021-06-20 23:59:34,319 : INFO : worker thread finished; awaiting finish of 3 more threads\n",
      "2021-06-20 23:59:34,320 : INFO : worker thread finished; awaiting finish of 2 more threads\n",
      "2021-06-20 23:59:34,321 : INFO : worker thread finished; awaiting finish of 1 more threads\n",
      "2021-06-20 23:59:34,322 : INFO : worker thread finished; awaiting finish of 0 more threads\n",
      "2021-06-20 23:59:34,322 : INFO : EPOCH - 18 : training on 88639 raw words (46314 effective words) took 0.0s, 2059218 effective words/s\n",
      "2021-06-20 23:59:34,348 : INFO : worker thread finished; awaiting finish of 7 more threads\n",
      "2021-06-20 23:59:34,352 : INFO : worker thread finished; awaiting finish of 6 more threads\n",
      "2021-06-20 23:59:34,358 : INFO : worker thread finished; awaiting finish of 5 more threads\n",
      "2021-06-20 23:59:34,362 : INFO : worker thread finished; awaiting finish of 4 more threads\n",
      "2021-06-20 23:59:34,363 : INFO : worker thread finished; awaiting finish of 3 more threads\n",
      "2021-06-20 23:59:34,364 : INFO : worker thread finished; awaiting finish of 2 more threads\n"
     ]
    },
    {
     "name": "stderr",
     "output_type": "stream",
     "text": [
      "2021-06-20 23:59:34,366 : INFO : worker thread finished; awaiting finish of 1 more threads\n",
      "2021-06-20 23:59:34,368 : INFO : worker thread finished; awaiting finish of 0 more threads\n",
      "2021-06-20 23:59:34,370 : INFO : EPOCH - 19 : training on 88639 raw words (46391 effective words) took 0.0s, 1521057 effective words/s\n",
      "2021-06-20 23:59:34,394 : INFO : worker thread finished; awaiting finish of 7 more threads\n",
      "2021-06-20 23:59:34,405 : INFO : worker thread finished; awaiting finish of 6 more threads\n",
      "2021-06-20 23:59:34,409 : INFO : worker thread finished; awaiting finish of 5 more threads\n",
      "2021-06-20 23:59:34,412 : INFO : worker thread finished; awaiting finish of 4 more threads\n",
      "2021-06-20 23:59:34,414 : INFO : worker thread finished; awaiting finish of 3 more threads\n",
      "2021-06-20 23:59:34,415 : INFO : worker thread finished; awaiting finish of 2 more threads\n",
      "2021-06-20 23:59:34,419 : INFO : worker thread finished; awaiting finish of 1 more threads\n",
      "2021-06-20 23:59:34,420 : INFO : worker thread finished; awaiting finish of 0 more threads\n",
      "2021-06-20 23:59:34,420 : INFO : EPOCH - 20 : training on 88639 raw words (46318 effective words) took 0.0s, 1451413 effective words/s\n",
      "2021-06-20 23:59:34,444 : INFO : worker thread finished; awaiting finish of 7 more threads\n",
      "2021-06-20 23:59:34,452 : INFO : worker thread finished; awaiting finish of 6 more threads\n",
      "2021-06-20 23:59:34,459 : INFO : worker thread finished; awaiting finish of 5 more threads\n",
      "2021-06-20 23:59:34,464 : INFO : worker thread finished; awaiting finish of 4 more threads\n",
      "2021-06-20 23:59:34,467 : INFO : worker thread finished; awaiting finish of 3 more threads\n",
      "2021-06-20 23:59:34,469 : INFO : worker thread finished; awaiting finish of 2 more threads\n",
      "2021-06-20 23:59:34,469 : INFO : worker thread finished; awaiting finish of 1 more threads\n",
      "2021-06-20 23:59:34,471 : INFO : worker thread finished; awaiting finish of 0 more threads\n",
      "2021-06-20 23:59:34,472 : INFO : EPOCH - 21 : training on 88639 raw words (46386 effective words) took 0.0s, 1602626 effective words/s\n",
      "2021-06-20 23:59:34,501 : INFO : worker thread finished; awaiting finish of 7 more threads\n",
      "2021-06-20 23:59:34,502 : INFO : worker thread finished; awaiting finish of 6 more threads\n",
      "2021-06-20 23:59:34,513 : INFO : worker thread finished; awaiting finish of 5 more threads\n",
      "2021-06-20 23:59:34,515 : INFO : worker thread finished; awaiting finish of 4 more threads\n",
      "2021-06-20 23:59:34,520 : INFO : worker thread finished; awaiting finish of 3 more threads\n",
      "2021-06-20 23:59:34,522 : INFO : worker thread finished; awaiting finish of 2 more threads\n",
      "2021-06-20 23:59:34,523 : INFO : worker thread finished; awaiting finish of 1 more threads\n",
      "2021-06-20 23:59:34,524 : INFO : worker thread finished; awaiting finish of 0 more threads\n",
      "2021-06-20 23:59:34,525 : INFO : EPOCH - 22 : training on 88639 raw words (46343 effective words) took 0.0s, 1419147 effective words/s\n",
      "2021-06-20 23:59:34,564 : INFO : worker thread finished; awaiting finish of 7 more threads\n",
      "2021-06-20 23:59:34,565 : INFO : worker thread finished; awaiting finish of 6 more threads\n",
      "2021-06-20 23:59:34,567 : INFO : worker thread finished; awaiting finish of 5 more threads\n",
      "2021-06-20 23:59:34,569 : INFO : worker thread finished; awaiting finish of 4 more threads\n",
      "2021-06-20 23:59:34,571 : INFO : worker thread finished; awaiting finish of 3 more threads\n",
      "2021-06-20 23:59:34,573 : INFO : worker thread finished; awaiting finish of 2 more threads\n",
      "2021-06-20 23:59:34,573 : INFO : worker thread finished; awaiting finish of 1 more threads\n",
      "2021-06-20 23:59:34,574 : INFO : worker thread finished; awaiting finish of 0 more threads\n",
      "2021-06-20 23:59:34,575 : INFO : EPOCH - 23 : training on 88639 raw words (46316 effective words) took 0.0s, 1169958 effective words/s\n",
      "2021-06-20 23:59:34,598 : INFO : worker thread finished; awaiting finish of 7 more threads\n",
      "2021-06-20 23:59:34,617 : INFO : worker thread finished; awaiting finish of 6 more threads\n",
      "2021-06-20 23:59:34,618 : INFO : worker thread finished; awaiting finish of 5 more threads\n",
      "2021-06-20 23:59:34,619 : INFO : worker thread finished; awaiting finish of 4 more threads\n",
      "2021-06-20 23:59:34,620 : INFO : worker thread finished; awaiting finish of 3 more threads\n",
      "2021-06-20 23:59:34,621 : INFO : worker thread finished; awaiting finish of 2 more threads\n",
      "2021-06-20 23:59:34,622 : INFO : worker thread finished; awaiting finish of 1 more threads\n",
      "2021-06-20 23:59:34,624 : INFO : worker thread finished; awaiting finish of 0 more threads\n",
      "2021-06-20 23:59:34,625 : INFO : EPOCH - 24 : training on 88639 raw words (46379 effective words) took 0.0s, 1187823 effective words/s\n",
      "2021-06-20 23:59:34,647 : INFO : worker thread finished; awaiting finish of 7 more threads\n",
      "2021-06-20 23:59:34,652 : INFO : worker thread finished; awaiting finish of 6 more threads\n",
      "2021-06-20 23:59:34,662 : INFO : worker thread finished; awaiting finish of 5 more threads\n",
      "2021-06-20 23:59:34,665 : INFO : worker thread finished; awaiting finish of 4 more threads\n",
      "2021-06-20 23:59:34,669 : INFO : worker thread finished; awaiting finish of 3 more threads\n",
      "2021-06-20 23:59:34,670 : INFO : worker thread finished; awaiting finish of 2 more threads\n",
      "2021-06-20 23:59:34,671 : INFO : worker thread finished; awaiting finish of 1 more threads\n",
      "2021-06-20 23:59:34,672 : INFO : worker thread finished; awaiting finish of 0 more threads\n",
      "2021-06-20 23:59:34,672 : INFO : EPOCH - 25 : training on 88639 raw words (46346 effective words) took 0.0s, 1795559 effective words/s\n",
      "2021-06-20 23:59:34,704 : INFO : worker thread finished; awaiting finish of 7 more threads\n",
      "2021-06-20 23:59:34,708 : INFO : worker thread finished; awaiting finish of 6 more threads\n",
      "2021-06-20 23:59:34,710 : INFO : worker thread finished; awaiting finish of 5 more threads\n",
      "2021-06-20 23:59:34,710 : INFO : worker thread finished; awaiting finish of 4 more threads\n",
      "2021-06-20 23:59:34,713 : INFO : worker thread finished; awaiting finish of 3 more threads\n",
      "2021-06-20 23:59:34,714 : INFO : worker thread finished; awaiting finish of 2 more threads\n",
      "2021-06-20 23:59:34,715 : INFO : worker thread finished; awaiting finish of 1 more threads\n",
      "2021-06-20 23:59:34,716 : INFO : worker thread finished; awaiting finish of 0 more threads\n",
      "2021-06-20 23:59:34,717 : INFO : EPOCH - 26 : training on 88639 raw words (46360 effective words) took 0.0s, 1345836 effective words/s\n",
      "2021-06-20 23:59:34,749 : INFO : worker thread finished; awaiting finish of 7 more threads\n",
      "2021-06-20 23:59:34,751 : INFO : worker thread finished; awaiting finish of 6 more threads\n",
      "2021-06-20 23:59:34,752 : INFO : worker thread finished; awaiting finish of 5 more threads\n",
      "2021-06-20 23:59:34,753 : INFO : worker thread finished; awaiting finish of 4 more threads\n",
      "2021-06-20 23:59:34,753 : INFO : worker thread finished; awaiting finish of 3 more threads\n",
      "2021-06-20 23:59:34,757 : INFO : worker thread finished; awaiting finish of 2 more threads\n",
      "2021-06-20 23:59:34,757 : INFO : worker thread finished; awaiting finish of 1 more threads\n",
      "2021-06-20 23:59:34,759 : INFO : worker thread finished; awaiting finish of 0 more threads\n",
      "2021-06-20 23:59:34,759 : INFO : EPOCH - 27 : training on 88639 raw words (46205 effective words) took 0.0s, 1431081 effective words/s\n",
      "2021-06-20 23:59:34,795 : INFO : worker thread finished; awaiting finish of 7 more threads\n",
      "2021-06-20 23:59:34,796 : INFO : worker thread finished; awaiting finish of 6 more threads\n",
      "2021-06-20 23:59:34,797 : INFO : worker thread finished; awaiting finish of 5 more threads\n",
      "2021-06-20 23:59:34,798 : INFO : worker thread finished; awaiting finish of 4 more threads\n",
      "2021-06-20 23:59:34,799 : INFO : worker thread finished; awaiting finish of 3 more threads\n",
      "2021-06-20 23:59:34,800 : INFO : worker thread finished; awaiting finish of 2 more threads\n",
      "2021-06-20 23:59:34,801 : INFO : worker thread finished; awaiting finish of 1 more threads\n",
      "2021-06-20 23:59:34,802 : INFO : worker thread finished; awaiting finish of 0 more threads\n",
      "2021-06-20 23:59:34,803 : INFO : EPOCH - 28 : training on 88639 raw words (46353 effective words) took 0.0s, 1481488 effective words/s\n",
      "2021-06-20 23:59:34,834 : INFO : worker thread finished; awaiting finish of 7 more threads\n",
      "2021-06-20 23:59:34,835 : INFO : worker thread finished; awaiting finish of 6 more threads\n"
     ]
    },
    {
     "name": "stderr",
     "output_type": "stream",
     "text": [
      "2021-06-20 23:59:34,840 : INFO : worker thread finished; awaiting finish of 5 more threads\n",
      "2021-06-20 23:59:34,842 : INFO : worker thread finished; awaiting finish of 4 more threads\n",
      "2021-06-20 23:59:34,844 : INFO : worker thread finished; awaiting finish of 3 more threads\n",
      "2021-06-20 23:59:34,846 : INFO : worker thread finished; awaiting finish of 2 more threads\n",
      "2021-06-20 23:59:34,847 : INFO : worker thread finished; awaiting finish of 1 more threads\n",
      "2021-06-20 23:59:34,848 : INFO : worker thread finished; awaiting finish of 0 more threads\n",
      "2021-06-20 23:59:34,849 : INFO : EPOCH - 29 : training on 88639 raw words (46390 effective words) took 0.0s, 1295095 effective words/s\n",
      "2021-06-20 23:59:34,889 : INFO : worker thread finished; awaiting finish of 7 more threads\n",
      "2021-06-20 23:59:34,890 : INFO : worker thread finished; awaiting finish of 6 more threads\n",
      "2021-06-20 23:59:34,891 : INFO : worker thread finished; awaiting finish of 5 more threads\n",
      "2021-06-20 23:59:34,892 : INFO : worker thread finished; awaiting finish of 4 more threads\n",
      "2021-06-20 23:59:34,895 : INFO : worker thread finished; awaiting finish of 3 more threads\n",
      "2021-06-20 23:59:34,896 : INFO : worker thread finished; awaiting finish of 2 more threads\n",
      "2021-06-20 23:59:34,897 : INFO : worker thread finished; awaiting finish of 1 more threads\n",
      "2021-06-20 23:59:34,898 : INFO : worker thread finished; awaiting finish of 0 more threads\n",
      "2021-06-20 23:59:34,898 : INFO : EPOCH - 30 : training on 88639 raw words (46334 effective words) took 0.0s, 1422513 effective words/s\n",
      "2021-06-20 23:59:34,925 : INFO : worker thread finished; awaiting finish of 7 more threads\n",
      "2021-06-20 23:59:34,937 : INFO : worker thread finished; awaiting finish of 6 more threads\n",
      "2021-06-20 23:59:34,940 : INFO : worker thread finished; awaiting finish of 5 more threads\n",
      "2021-06-20 23:59:34,945 : INFO : worker thread finished; awaiting finish of 4 more threads\n",
      "2021-06-20 23:59:34,947 : INFO : worker thread finished; awaiting finish of 3 more threads\n",
      "2021-06-20 23:59:34,948 : INFO : worker thread finished; awaiting finish of 2 more threads\n",
      "2021-06-20 23:59:34,949 : INFO : worker thread finished; awaiting finish of 1 more threads\n",
      "2021-06-20 23:59:34,950 : INFO : worker thread finished; awaiting finish of 0 more threads\n",
      "2021-06-20 23:59:34,950 : INFO : EPOCH - 31 : training on 88639 raw words (46408 effective words) took 0.0s, 1187096 effective words/s\n",
      "2021-06-20 23:59:34,977 : INFO : worker thread finished; awaiting finish of 7 more threads\n",
      "2021-06-20 23:59:34,990 : INFO : worker thread finished; awaiting finish of 6 more threads\n",
      "2021-06-20 23:59:34,993 : INFO : worker thread finished; awaiting finish of 5 more threads\n",
      "2021-06-20 23:59:34,996 : INFO : worker thread finished; awaiting finish of 4 more threads\n",
      "2021-06-20 23:59:34,998 : INFO : worker thread finished; awaiting finish of 3 more threads\n",
      "2021-06-20 23:59:34,999 : INFO : worker thread finished; awaiting finish of 2 more threads\n",
      "2021-06-20 23:59:35,000 : INFO : worker thread finished; awaiting finish of 1 more threads\n",
      "2021-06-20 23:59:35,001 : INFO : worker thread finished; awaiting finish of 0 more threads\n",
      "2021-06-20 23:59:35,002 : INFO : EPOCH - 32 : training on 88639 raw words (46416 effective words) took 0.0s, 1209821 effective words/s\n",
      "2021-06-20 23:59:35,003 : INFO : Word2Vec lifecycle event {'msg': 'training on 2836448 raw words (1483082 effective words) took 1.6s, 912898 effective words/s', 'datetime': '2021-06-20T23:59:35.003162', 'gensim': '4.0.1', 'python': '3.8.8 (default, Feb 24 2021, 13:46:16) \\n[Clang 10.0.0 ]', 'platform': 'macOS-10.15.5-x86_64-i386-64bit', 'event': 'train'}\n"
     ]
    },
    {
     "data": {
      "text/plain": [
       "(1483082, 2836448)"
      ]
     },
     "execution_count": 11,
     "metadata": {},
     "output_type": "execute_result"
    }
   ],
   "source": [
    "w2v_model.train(documents, total_examples=len(documents), epochs=W2V_EPOCH)"
   ]
  },
  {
   "cell_type": "code",
   "execution_count": 12,
   "id": "animal-oxide",
   "metadata": {},
   "outputs": [
    {
     "data": {
      "text/plain": [
       "[('violence', 0.7837757468223572),\n",
       " ('filled', 0.7694382667541504),\n",
       " ('free', 0.7523946166038513),\n",
       " ('speech', 0.7120763063430786),\n",
       " ('group', 0.7033302187919617),\n",
       " ('spread', 0.6785508990287781),\n",
       " ('kidding', 0.6567657589912415),\n",
       " ('problem', 0.6372426152229309),\n",
       " ('promoting', 0.6366046667098999),\n",
       " ('violent', 0.6335884928703308)]"
      ]
     },
     "execution_count": 12,
     "metadata": {},
     "output_type": "execute_result"
    }
   ],
   "source": [
    "w2v_model.wv.most_similar(\"hate\")"
   ]
  },
  {
   "cell_type": "code",
   "execution_count": 13,
   "id": "cooked-zoning",
   "metadata": {},
   "outputs": [
    {
     "name": "stdout",
     "output_type": "stream",
     "text": [
      "Total words 21238\n"
     ]
    }
   ],
   "source": [
    "tokenizer = Tokenizer()\n",
    "tokenizer.fit_on_texts(df_train.message)\n",
    "\n",
    "vocab_size = len(tokenizer.word_index) + 1\n",
    "print(\"Total words\", vocab_size)"
   ]
  },
  {
   "cell_type": "code",
   "execution_count": 14,
   "id": "extended-valuation",
   "metadata": {},
   "outputs": [
    {
     "name": "stdout",
     "output_type": "stream",
     "text": [
      "1812\n"
     ]
    }
   ],
   "source": [
    "# min sample size\n",
    "min_length = 1e10\n",
    "for i in df['class'].unique().tolist():\n",
    "    curr_length = len(df[df['class'] == i])\n",
    "    if curr_length != 0 and curr_length < min_length:\n",
    "        min_length = curr_length\n",
    "\n",
    "# undersample\n",
    "df_arr = []\n",
    "for i in df['class'].unique().tolist():\n",
    "    df_arr.append(df[df['class'] == i].sample(min_length))\n",
    "\n",
    "df = pd.concat(df_arr)\n",
    "df_train, df_test = train_test_split(df, test_size=1-TRAIN_SIZE, random_state=42)\n",
    "print(len(df))"
   ]
  },
  {
   "cell_type": "code",
   "execution_count": 15,
   "id": "supreme-smile",
   "metadata": {},
   "outputs": [],
   "source": [
    "x_train = pad_sequences(tokenizer.texts_to_sequences(df_train.message), maxlen=SEQUENCE_LENGTH)\n",
    "x_test = pad_sequences(tokenizer.texts_to_sequences(df_test.message), maxlen=SEQUENCE_LENGTH)"
   ]
  },
  {
   "cell_type": "code",
   "execution_count": 16,
   "id": "positive-mayor",
   "metadata": {},
   "outputs": [
    {
     "data": {
      "text/plain": [
       "['POSITIVE', 'NEGATIVE', 'NEUTRAL']"
      ]
     },
     "execution_count": 16,
     "metadata": {},
     "output_type": "execute_result"
    }
   ],
   "source": [
    "labels = df_train['class'].unique().tolist()\n",
    "labels.append(NEUTRAL)\n",
    "labels"
   ]
  },
  {
   "cell_type": "code",
   "execution_count": 17,
   "id": "outer-copying",
   "metadata": {},
   "outputs": [
    {
     "name": "stdout",
     "output_type": "stream",
     "text": [
      "y_train (1449, 1)\n",
      "y_test (363, 1)\n"
     ]
    }
   ],
   "source": [
    "encoder = LabelEncoder()\n",
    "encoder.fit(df_train['class'].tolist())\n",
    "\n",
    "y_train = encoder.transform(df_train['class'].tolist())\n",
    "y_test = encoder.transform(df_test['class'].tolist())\n",
    "\n",
    "y_train = y_train.reshape(-1,1)\n",
    "y_test = y_test.reshape(-1,1)\n",
    "\n",
    "print(\"y_train\",y_train.shape)\n",
    "print(\"y_test\",y_test.shape)"
   ]
  },
  {
   "cell_type": "code",
   "execution_count": 24,
   "id": "fifty-baghdad",
   "metadata": {},
   "outputs": [
    {
     "name": "stdout",
     "output_type": "stream",
     "text": [
      "21238\n",
      "(21238, 100)\n"
     ]
    }
   ],
   "source": [
    "embedding_matrix = np.zeros((vocab_size, W2V_SIZE))\n",
    "print(vocab_size)\n",
    "for word in w2v_model.wv.key_to_index:\n",
    "    embedding_matrix[w2v_model.wv.key_to_index[word]] = w2v_model.wv[word]\n",
    "print(embedding_matrix.shape)"
   ]
  },
  {
   "cell_type": "code",
   "execution_count": 25,
   "id": "parallel-senator",
   "metadata": {},
   "outputs": [],
   "source": [
    "embedding_layer = Embedding(vocab_size, W2V_SIZE, weights=[embedding_matrix], input_length=SEQUENCE_LENGTH, trainable=False)\n"
   ]
  },
  {
   "cell_type": "code",
   "execution_count": 28,
   "id": "pregnant-indianapolis",
   "metadata": {},
   "outputs": [
    {
     "name": "stdout",
     "output_type": "stream",
     "text": [
      "Model: \"sequential\"\n",
      "_________________________________________________________________\n",
      "Layer (type)                 Output Shape              Param #   \n",
      "=================================================================\n",
      "embedding_1 (Embedding)      (None, 50, 100)           2123800   \n",
      "_________________________________________________________________\n",
      "conv1d (Conv1D)              (None, 46, 128)           64128     \n",
      "_________________________________________________________________\n",
      "global_max_pooling1d (Global (None, 128)               0         \n",
      "_________________________________________________________________\n",
      "dense (Dense)                (None, 10)                1290      \n",
      "_________________________________________________________________\n",
      "dense_1 (Dense)              (None, 1)                 11        \n",
      "=================================================================\n",
      "Total params: 2,189,229\n",
      "Trainable params: 65,429\n",
      "Non-trainable params: 2,123,800\n",
      "_________________________________________________________________\n"
     ]
    }
   ],
   "source": [
    "model = Sequential()\n",
    "model.add(embedding_layer)\n",
    "# model.add(Dropout(0.5))\n",
    "# model.add(LSTM(100, dropout=0.2, recurrent_dropout=0.2))\n",
    "# model.add(Dense(1, activation='sigmoid'))\n",
    "model.add(Conv1D(128, 5, activation='relu'))\n",
    "model.add(GlobalMaxPooling1D())\n",
    "model.add(Dense(10, activation='relu'))\n",
    "model.add(Dense(1, activation='sigmoid'))\n",
    "model.compile(optimizer='adam',\n",
    "              loss='binary_crossentropy',\n",
    "              metrics=[AUC(name='auc')])\n",
    "\n",
    "model.summary()"
   ]
  },
  {
   "cell_type": "code",
   "execution_count": 29,
   "id": "choice-daniel",
   "metadata": {
    "scrolled": true
   },
   "outputs": [
    {
     "name": "stdout",
     "output_type": "stream",
     "text": [
      "                                                 message     class\n",
      "11318  theview huntsmanabby whoopigoldberg joyvbehar ...  NEGATIVE\n",
      "3324                                hang daily know shit  NEGATIVE\n",
      "12714          cspan jonkarl hate never wins unnecessary  NEGATIVE\n",
      "11400  rt marisaataylor 43 republicans say trump allo...  NEGATIVE\n",
      "7804   melaniehenwood bbcpm lbc shelaghfogarty mrjame...  NEGATIVE\n",
      "Epoch 1/20\n",
      "68/68 [==============================] - 15s 11ms/step - loss: 0.7102 - auc: 0.5576 - val_loss: 0.6797 - val_auc: 0.6944\n",
      "Epoch 2/20\n",
      "68/68 [==============================] - 0s 3ms/step - loss: 0.6278 - auc: 0.7016 - val_loss: 0.6091 - val_auc: 0.7224\n",
      "Epoch 3/20\n",
      "68/68 [==============================] - 0s 3ms/step - loss: 0.5280 - auc: 0.8549 - val_loss: 0.6131 - val_auc: 0.7195\n",
      "Epoch 4/20\n",
      "68/68 [==============================] - 0s 3ms/step - loss: 0.4846 - auc: 0.8749 - val_loss: 0.7355 - val_auc: 0.7170\n",
      "Epoch 5/20\n",
      "68/68 [==============================] - 0s 3ms/step - loss: 0.4333 - auc: 0.9045 - val_loss: 0.6293 - val_auc: 0.7319\n",
      "Epoch 6/20\n",
      "68/68 [==============================] - 0s 3ms/step - loss: 0.3583 - auc: 0.9405 - val_loss: 0.6085 - val_auc: 0.7329\n"
     ]
    }
   ],
   "source": [
    "print(df.head())\n",
    "callbacks = [ ReduceLROnPlateau(monitor='val_loss', patience=5, cooldown=0),\n",
    "              EarlyStopping(monitor='val_auc', min_delta=1e-4, patience=5)]\n",
    "history = model.fit(x_train, y_train,\n",
    "                    batch_size=BATCH_SIZE,\n",
    "                    epochs=EPOCHS,\n",
    "                    validation_split=0.25,\n",
    "                    verbose=1,\n",
    "                    callbacks=callbacks,\n",
    "                    shuffle=True)"
   ]
  },
  {
   "cell_type": "code",
   "execution_count": 31,
   "id": "incorporated-share",
   "metadata": {},
   "outputs": [
    {
     "name": "stdout",
     "output_type": "stream",
     "text": [
      "23/23 [==============================] - 0s 1ms/step - loss: 0.6580 - auc: 0.6996\n",
      "\n",
      "ACCURACY: 0.6995896697044373\n",
      "LOSS: 0.6580141186714172\n"
     ]
    }
   ],
   "source": [
    "score = model.evaluate(x_test, y_test, batch_size=BATCH_SIZE)\n",
    "print()\n",
    "print(\"ACCURACY:\",score[1])\n",
    "print(\"LOSS:\",score[0])"
   ]
  },
  {
   "cell_type": "code",
   "execution_count": 33,
   "id": "ordinary-purse",
   "metadata": {},
   "outputs": [
    {
     "data": {
      "image/png": "[encoded data removed]",
      "text/plain": [
       "<Figure size 432x288 with 1 Axes>"
      ]
     },
     "metadata": {
      "needs_background": "light"
     },
     "output_type": "display_data"
    },
    {
     "data": {
      "image/png": "[encoded data removed]",
      "text/plain": [
       "<Figure size 432x288 with 1 Axes>"
      ]
     },
     "metadata": {
      "needs_background": "light"
     },
     "output_type": "display_data"
    }
   ],
   "source": [
    "acc = history.history['auc']\n",
    "val_acc = history.history['val_auc']\n",
    "loss = history.history['loss']\n",
    "val_loss = history.history['val_loss']\n",
    " \n",
    "epochs = range(len(acc))\n",
    " \n",
    "plt.plot(epochs, acc, 'b', label='Training acc')\n",
    "plt.plot(epochs, val_acc, 'r', label='Validation acc')\n",
    "plt.title('Training and validation accuracy')\n",
    "plt.legend()\n",
    " \n",
    "plt.figure()\n",
    " \n",
    "plt.plot(epochs, loss, 'b', label='Training loss')\n",
    "plt.plot(epochs, val_loss, 'r', label='Validation loss')\n",
    "plt.title('Training and validation loss')\n",
    "plt.legend()\n",
    " \n",
    "plt.show()"
   ]
  },
  {
   "cell_type": "code",
   "execution_count": 34,
   "id": "partial-broad",
   "metadata": {},
   "outputs": [],
   "source": [
    "def decode_sentiment(score, include_neutral=True):\n",
    "    if include_neutral:        \n",
    "        label = NEUTRAL\n",
    "        if score <= SENTIMENT_THRESHOLDS[0]:\n",
    "            label = NEGATIVE\n",
    "        elif score >= SENTIMENT_THRESHOLDS[1]:\n",
    "            label = POSITIVE\n",
    "\n",
    "        return label\n",
    "    else:\n",
    "        return NEGATIVE if score < 0.5 else POSITIVE"
   ]
  },
  {
   "cell_type": "code",
   "execution_count": 35,
   "id": "square-review",
   "metadata": {},
   "outputs": [],
   "source": [
    "def predict(text, include_neutral=True):\n",
    "    start_at = time.time()\n",
    "    # Tokenize text\n",
    "    x_test = pad_sequences(tokenizer.texts_to_sequences([text]), maxlen=SEQUENCE_LENGTH)\n",
    "    # Predict\n",
    "    score = model.predict([x_test])[0]\n",
    "    # Decode sentiment\n",
    "    label = decode_sentiment(score, include_neutral=include_neutral)\n",
    "\n",
    "    return {\"label\": label, \"score\": float(score),\n",
    "       \"elapsed_time\": time.time()-start_at}  "
   ]
  },
  {
   "cell_type": "code",
   "execution_count": 36,
   "id": "successful-munich",
   "metadata": {},
   "outputs": [
    {
     "data": {
      "text/plain": [
       "{'label': 'NEUTRAL',\n",
       " 'score': 0.5542647242546082,\n",
       " 'elapsed_time': 0.28296494483947754}"
      ]
     },
     "execution_count": 36,
     "metadata": {},
     "output_type": "execute_result"
    }
   ],
   "source": [
    "predict('I hate the weather')"
   ]
  },
  {
   "cell_type": "code",
   "execution_count": 37,
   "id": "eleven-syndication",
   "metadata": {},
   "outputs": [
    {
     "name": "stderr",
     "output_type": "stream",
     "text": [
      "2021-06-21 00:01:39,862 : INFO : Word2Vec lifecycle event {'fname_or_handle': 'model.w2v', 'separately': 'None', 'sep_limit': 10485760, 'ignore': frozenset(), 'datetime': '2021-06-21T00:01:39.862599', 'gensim': '4.0.1', 'python': '3.8.8 (default, Feb 24 2021, 13:46:16) \\n[Clang 10.0.0 ]', 'platform': 'macOS-10.15.5-x86_64-i386-64bit', 'event': 'saving'}\n",
      "2021-06-21 00:01:39,863 : INFO : not storing attribute cum_table\n",
      "2021-06-21 00:01:39,869 : INFO : saved model.w2v\n"
     ]
    }
   ],
   "source": [
    "model.save(KERAS_MODEL)\n",
    "w2v_model.save(WORD2VEC_MODEL)\n",
    "pickle.dump(tokenizer, open(TOKENIZER_MODEL, \"wb\"), protocol=0)\n",
    "pickle.dump(encoder, open(ENCODER_MODEL, \"wb\"), protocol=0)"
   ]
  }
 ],
 "metadata": {
  "kernelspec": {
   "display_name": "Python 3",
   "language": "python",
   "name": "python3"
  },
  "language_info": {
   "codemirror_mode": {
    "name": "ipython",
    "version": 3
   },
   "file_extension": ".py",
   "mimetype": "text/x-python",
   "name": "python",
   "nbconvert_exporter": "python",
   "pygments_lexer": "ipython3",
   "version": "3.8.8"
  },
  "latex_envs": {
   "LaTeX_envs_menu_present": true,
   "autoclose": false,
   "autocomplete": true,
   "bibliofile": "biblio.bib",
   "cite_by": "apalike",
   "current_citInitial": 1,
   "eqLabelWithNumbers": true,
   "eqNumInitial": 1,
   "hotkeys": {
    "equation": "Ctrl-E",
    "itemize": "Ctrl-I"
   },
   "labels_anchors": false,
   "latex_user_defs": false,
   "report_style_numbering": false,
   "user_envs_cfg": false
  },
  "toc": {
   "base_numbering": 1,
   "nav_menu": {},
   "number_sections": true,
   "sideBar": true,
   "skip_h1_title": false,
   "title_cell": "Table of Contents",
   "title_sidebar": "Contents",
   "toc_cell": false,
   "toc_position": {},
   "toc_section_display": true,
   "toc_window_display": false
  }
 },
 "nbformat": 4,
 "nbformat_minor": 5
}
